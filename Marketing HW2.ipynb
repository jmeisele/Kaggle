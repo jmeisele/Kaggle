{
 "cells": [
  {
   "cell_type": "code",
   "execution_count": 1,
   "metadata": {},
   "outputs": [],
   "source": [
    "import pandas as pd\n",
    "from sklearn.linear_model import LogisticRegression\n",
    "from sklearn.metrics import accuracy_score, classification_report, confusion_matrix\n",
    "from sklearn.preprocessing import LabelEncoder"
   ]
  },
  {
   "cell_type": "code",
   "execution_count": 2,
   "metadata": {},
   "outputs": [],
   "source": [
    "# Import the dataset\n",
    "training_df = pd.read_excel(\"/Users/jasoneisele/Desktop/Relay_Data_HW2_2_2_2_2/relaytrain.xlsx\")"
   ]
  },
  {
   "cell_type": "code",
   "execution_count": 3,
   "metadata": {},
   "outputs": [
    {
     "name": "stdout",
     "output_type": "stream",
     "text": [
      "The shape of our training dataframe is 24579 rows, and 16 columns\n"
     ]
    }
   ],
   "source": [
    "print(\"The shape of our training dataframe is {}\".format(training_df.shape[0]) + \" rows, and {}\".format(training_df.shape[1]) + \" columns\")"
   ]
  },
  {
   "cell_type": "code",
   "execution_count": 4,
   "metadata": {},
   "outputs": [
    {
     "data": {
      "text/html": [
       "<div>\n",
       "<style scoped>\n",
       "    .dataframe tbody tr th:only-of-type {\n",
       "        vertical-align: middle;\n",
       "    }\n",
       "\n",
       "    .dataframe tbody tr th {\n",
       "        vertical-align: top;\n",
       "    }\n",
       "\n",
       "    .dataframe thead th {\n",
       "        text-align: right;\n",
       "    }\n",
       "</style>\n",
       "<table border=\"1\" class=\"dataframe\">\n",
       "  <thead>\n",
       "    <tr style=\"text-align: right;\">\n",
       "      <th></th>\n",
       "      <th>custid</th>\n",
       "      <th>retained</th>\n",
       "      <th>created</th>\n",
       "      <th>firstorder</th>\n",
       "      <th>lastorder</th>\n",
       "      <th>esent</th>\n",
       "      <th>eopenrate</th>\n",
       "      <th>eclickrate</th>\n",
       "      <th>avgorder</th>\n",
       "      <th>ordfreq</th>\n",
       "      <th>paperless</th>\n",
       "      <th>refill</th>\n",
       "      <th>doorstep</th>\n",
       "      <th>train</th>\n",
       "      <th>favday</th>\n",
       "      <th>city</th>\n",
       "    </tr>\n",
       "  </thead>\n",
       "  <tbody>\n",
       "    <tr>\n",
       "      <th>0</th>\n",
       "      <td>6H6T6N</td>\n",
       "      <td>0</td>\n",
       "      <td>2012-09-28</td>\n",
       "      <td>2013-08-11 00:00:00</td>\n",
       "      <td>2013-08-11 00:00:00</td>\n",
       "      <td>29</td>\n",
       "      <td>100.000000</td>\n",
       "      <td>3.448276</td>\n",
       "      <td>14.52</td>\n",
       "      <td>0.000000</td>\n",
       "      <td>0</td>\n",
       "      <td>0</td>\n",
       "      <td>0</td>\n",
       "      <td>1</td>\n",
       "      <td>Monday</td>\n",
       "      <td>CHO</td>\n",
       "    </tr>\n",
       "    <tr>\n",
       "      <th>1</th>\n",
       "      <td>APCENR</td>\n",
       "      <td>1</td>\n",
       "      <td>2010-12-19</td>\n",
       "      <td>2011-04-01 00:00:00</td>\n",
       "      <td>2014-01-19 00:00:00</td>\n",
       "      <td>95</td>\n",
       "      <td>92.631579</td>\n",
       "      <td>10.526316</td>\n",
       "      <td>83.69</td>\n",
       "      <td>0.181641</td>\n",
       "      <td>1</td>\n",
       "      <td>1</td>\n",
       "      <td>1</td>\n",
       "      <td>1</td>\n",
       "      <td>Friday</td>\n",
       "      <td>CHO</td>\n",
       "    </tr>\n",
       "    <tr>\n",
       "      <th>2</th>\n",
       "      <td>7UP6MS</td>\n",
       "      <td>0</td>\n",
       "      <td>2010-10-03</td>\n",
       "      <td>2010-12-01 00:00:00</td>\n",
       "      <td>2011-07-06 00:00:00</td>\n",
       "      <td>0</td>\n",
       "      <td>0.000000</td>\n",
       "      <td>0.000000</td>\n",
       "      <td>33.58</td>\n",
       "      <td>0.059908</td>\n",
       "      <td>0</td>\n",
       "      <td>0</td>\n",
       "      <td>0</td>\n",
       "      <td>1</td>\n",
       "      <td>Wednesday</td>\n",
       "      <td>CHO</td>\n",
       "    </tr>\n",
       "    <tr>\n",
       "      <th>3</th>\n",
       "      <td>7ZEW8G</td>\n",
       "      <td>0</td>\n",
       "      <td>2010-10-22</td>\n",
       "      <td>2011-03-28 00:00:00</td>\n",
       "      <td>2011-03-28 00:00:00</td>\n",
       "      <td>0</td>\n",
       "      <td>0.000000</td>\n",
       "      <td>0.000000</td>\n",
       "      <td>54.96</td>\n",
       "      <td>0.000000</td>\n",
       "      <td>0</td>\n",
       "      <td>0</td>\n",
       "      <td>0</td>\n",
       "      <td>1</td>\n",
       "      <td>Thursday</td>\n",
       "      <td>RIC</td>\n",
       "    </tr>\n",
       "    <tr>\n",
       "      <th>4</th>\n",
       "      <td>8V726M</td>\n",
       "      <td>1</td>\n",
       "      <td>2010-11-27</td>\n",
       "      <td>2010-11-29 00:00:00</td>\n",
       "      <td>2013-01-28 00:00:00</td>\n",
       "      <td>30</td>\n",
       "      <td>90.000000</td>\n",
       "      <td>13.333333</td>\n",
       "      <td>111.91</td>\n",
       "      <td>0.008850</td>\n",
       "      <td>0</td>\n",
       "      <td>0</td>\n",
       "      <td>0</td>\n",
       "      <td>1</td>\n",
       "      <td>Monday</td>\n",
       "      <td>RIC</td>\n",
       "    </tr>\n",
       "  </tbody>\n",
       "</table>\n",
       "</div>"
      ],
      "text/plain": [
       "   custid  retained    created           firstorder            lastorder  \\\n",
       "0  6H6T6N         0 2012-09-28  2013-08-11 00:00:00  2013-08-11 00:00:00   \n",
       "1  APCENR         1 2010-12-19  2011-04-01 00:00:00  2014-01-19 00:00:00   \n",
       "2  7UP6MS         0 2010-10-03  2010-12-01 00:00:00  2011-07-06 00:00:00   \n",
       "3  7ZEW8G         0 2010-10-22  2011-03-28 00:00:00  2011-03-28 00:00:00   \n",
       "4  8V726M         1 2010-11-27  2010-11-29 00:00:00  2013-01-28 00:00:00   \n",
       "\n",
       "   esent   eopenrate  eclickrate  avgorder   ordfreq  paperless  refill  \\\n",
       "0     29  100.000000    3.448276     14.52  0.000000          0       0   \n",
       "1     95   92.631579   10.526316     83.69  0.181641          1       1   \n",
       "2      0    0.000000    0.000000     33.58  0.059908          0       0   \n",
       "3      0    0.000000    0.000000     54.96  0.000000          0       0   \n",
       "4     30   90.000000   13.333333    111.91  0.008850          0       0   \n",
       "\n",
       "   doorstep  train     favday city  \n",
       "0         0      1     Monday  CHO  \n",
       "1         1      1     Friday  CHO  \n",
       "2         0      1  Wednesday  CHO  \n",
       "3         0      1   Thursday  RIC  \n",
       "4         0      1     Monday  RIC  "
      ]
     },
     "execution_count": 4,
     "metadata": {},
     "output_type": "execute_result"
    }
   ],
   "source": [
    "# Check the top 5 rows\n",
    "training_df.head()"
   ]
  },
  {
   "cell_type": "code",
   "execution_count": 5,
   "metadata": {},
   "outputs": [
    {
     "data": {
      "text/plain": [
       "custid        17\n",
       "retained       0\n",
       "created       17\n",
       "firstorder    17\n",
       "lastorder     17\n",
       "esent          0\n",
       "eopenrate      0\n",
       "eclickrate     0\n",
       "avgorder       0\n",
       "ordfreq        0\n",
       "paperless      0\n",
       "refill         0\n",
       "doorstep       0\n",
       "train          0\n",
       "favday         0\n",
       "city           0\n",
       "dtype: int64"
      ]
     },
     "execution_count": 5,
     "metadata": {},
     "output_type": "execute_result"
    }
   ],
   "source": [
    "#Check for missing values\n",
    "training_df.isnull().sum()"
   ]
  },
  {
   "cell_type": "code",
   "execution_count": 6,
   "metadata": {},
   "outputs": [],
   "source": [
    "# Drop rows where custid has missing values\n",
    "training_df = training_df[pd.notnull(training_df['custid'])]"
   ]
  },
  {
   "cell_type": "code",
   "execution_count": 7,
   "metadata": {},
   "outputs": [
    {
     "data": {
      "text/plain": [
       "custid        0\n",
       "retained      0\n",
       "created       0\n",
       "firstorder    0\n",
       "lastorder     0\n",
       "esent         0\n",
       "eopenrate     0\n",
       "eclickrate    0\n",
       "avgorder      0\n",
       "ordfreq       0\n",
       "paperless     0\n",
       "refill        0\n",
       "doorstep      0\n",
       "train         0\n",
       "favday        0\n",
       "city          0\n",
       "dtype: int64"
      ]
     },
     "execution_count": 7,
     "metadata": {},
     "output_type": "execute_result"
    }
   ],
   "source": [
    "# Recheck for missing values\n",
    "training_df.isnull().sum()"
   ]
  },
  {
   "cell_type": "code",
   "execution_count": 8,
   "metadata": {},
   "outputs": [
    {
     "name": "stdout",
     "output_type": "stream",
     "text": [
      "The new shape of our training dataframe is 24562 rows, and 16 columns\n"
     ]
    }
   ],
   "source": [
    "print(\"The new shape of our training dataframe is {}\".format(training_df.shape[0]) + \" rows, and {}\".format(training_df.shape[1]) + \" columns\")"
   ]
  },
  {
   "cell_type": "markdown",
   "metadata": {},
   "source": [
    "### Our dataset had 24579 rows before and 24562 after dropping the missing rows where custid feature was missing a value. 17 rows total ~ 0.069% which is extremely small"
   ]
  },
  {
   "cell_type": "code",
   "execution_count": 9,
   "metadata": {},
   "outputs": [
    {
     "name": "stdout",
     "output_type": "stream",
     "text": [
      "The data lost was 0.069164734122625%\n"
     ]
    }
   ],
   "source": [
    "print(\"The data lost was \" + str(float((17/24579)*100)) + \"%\")"
   ]
  },
  {
   "cell_type": "code",
   "execution_count": 10,
   "metadata": {},
   "outputs": [
    {
     "data": {
      "text/plain": [
       "custid                object\n",
       "retained               int64\n",
       "created       datetime64[ns]\n",
       "firstorder            object\n",
       "lastorder             object\n",
       "esent                  int64\n",
       "eopenrate            float64\n",
       "eclickrate           float64\n",
       "avgorder             float64\n",
       "ordfreq              float64\n",
       "paperless              int64\n",
       "refill                 int64\n",
       "doorstep               int64\n",
       "train                  int64\n",
       "favday                object\n",
       "city                  object\n",
       "dtype: object"
      ]
     },
     "execution_count": 10,
     "metadata": {},
     "output_type": "execute_result"
    }
   ],
   "source": [
    "# Check the data types of our features\n",
    "training_df.dtypes"
   ]
  },
  {
   "cell_type": "code",
   "execution_count": 11,
   "metadata": {
    "scrolled": false
   },
   "outputs": [
    {
     "data": {
      "text/html": [
       "<div>\n",
       "<style scoped>\n",
       "    .dataframe tbody tr th:only-of-type {\n",
       "        vertical-align: middle;\n",
       "    }\n",
       "\n",
       "    .dataframe tbody tr th {\n",
       "        vertical-align: top;\n",
       "    }\n",
       "\n",
       "    .dataframe thead th {\n",
       "        text-align: right;\n",
       "    }\n",
       "</style>\n",
       "<table border=\"1\" class=\"dataframe\">\n",
       "  <thead>\n",
       "    <tr style=\"text-align: right;\">\n",
       "      <th></th>\n",
       "      <th>custid</th>\n",
       "      <th>retained</th>\n",
       "      <th>created</th>\n",
       "      <th>firstorder</th>\n",
       "      <th>lastorder</th>\n",
       "      <th>esent</th>\n",
       "      <th>eopenrate</th>\n",
       "      <th>eclickrate</th>\n",
       "      <th>avgorder</th>\n",
       "      <th>ordfreq</th>\n",
       "      <th>paperless</th>\n",
       "      <th>refill</th>\n",
       "      <th>doorstep</th>\n",
       "      <th>train</th>\n",
       "      <th>favday</th>\n",
       "      <th>city</th>\n",
       "    </tr>\n",
       "  </thead>\n",
       "  <tbody>\n",
       "    <tr>\n",
       "      <th>0</th>\n",
       "      <td>6H6T6N</td>\n",
       "      <td>0</td>\n",
       "      <td>2012-09-28</td>\n",
       "      <td>2013-08-11 00:00:00</td>\n",
       "      <td>2013-08-11 00:00:00</td>\n",
       "      <td>29</td>\n",
       "      <td>100.000000</td>\n",
       "      <td>3.448276</td>\n",
       "      <td>14.52</td>\n",
       "      <td>0.000000</td>\n",
       "      <td>0</td>\n",
       "      <td>0</td>\n",
       "      <td>0</td>\n",
       "      <td>1</td>\n",
       "      <td>1</td>\n",
       "      <td>1</td>\n",
       "    </tr>\n",
       "    <tr>\n",
       "      <th>1</th>\n",
       "      <td>APCENR</td>\n",
       "      <td>1</td>\n",
       "      <td>2010-12-19</td>\n",
       "      <td>2011-04-01 00:00:00</td>\n",
       "      <td>2014-01-19 00:00:00</td>\n",
       "      <td>95</td>\n",
       "      <td>92.631579</td>\n",
       "      <td>10.526316</td>\n",
       "      <td>83.69</td>\n",
       "      <td>0.181641</td>\n",
       "      <td>1</td>\n",
       "      <td>1</td>\n",
       "      <td>1</td>\n",
       "      <td>1</td>\n",
       "      <td>0</td>\n",
       "      <td>1</td>\n",
       "    </tr>\n",
       "    <tr>\n",
       "      <th>2</th>\n",
       "      <td>7UP6MS</td>\n",
       "      <td>0</td>\n",
       "      <td>2010-10-03</td>\n",
       "      <td>2010-12-01 00:00:00</td>\n",
       "      <td>2011-07-06 00:00:00</td>\n",
       "      <td>0</td>\n",
       "      <td>0.000000</td>\n",
       "      <td>0.000000</td>\n",
       "      <td>33.58</td>\n",
       "      <td>0.059908</td>\n",
       "      <td>0</td>\n",
       "      <td>0</td>\n",
       "      <td>0</td>\n",
       "      <td>1</td>\n",
       "      <td>6</td>\n",
       "      <td>1</td>\n",
       "    </tr>\n",
       "    <tr>\n",
       "      <th>3</th>\n",
       "      <td>7ZEW8G</td>\n",
       "      <td>0</td>\n",
       "      <td>2010-10-22</td>\n",
       "      <td>2011-03-28 00:00:00</td>\n",
       "      <td>2011-03-28 00:00:00</td>\n",
       "      <td>0</td>\n",
       "      <td>0.000000</td>\n",
       "      <td>0.000000</td>\n",
       "      <td>54.96</td>\n",
       "      <td>0.000000</td>\n",
       "      <td>0</td>\n",
       "      <td>0</td>\n",
       "      <td>0</td>\n",
       "      <td>1</td>\n",
       "      <td>4</td>\n",
       "      <td>3</td>\n",
       "    </tr>\n",
       "    <tr>\n",
       "      <th>4</th>\n",
       "      <td>8V726M</td>\n",
       "      <td>1</td>\n",
       "      <td>2010-11-27</td>\n",
       "      <td>2010-11-29 00:00:00</td>\n",
       "      <td>2013-01-28 00:00:00</td>\n",
       "      <td>30</td>\n",
       "      <td>90.000000</td>\n",
       "      <td>13.333333</td>\n",
       "      <td>111.91</td>\n",
       "      <td>0.008850</td>\n",
       "      <td>0</td>\n",
       "      <td>0</td>\n",
       "      <td>0</td>\n",
       "      <td>1</td>\n",
       "      <td>1</td>\n",
       "      <td>3</td>\n",
       "    </tr>\n",
       "  </tbody>\n",
       "</table>\n",
       "</div>"
      ],
      "text/plain": [
       "   custid  retained    created           firstorder            lastorder  \\\n",
       "0  6H6T6N         0 2012-09-28  2013-08-11 00:00:00  2013-08-11 00:00:00   \n",
       "1  APCENR         1 2010-12-19  2011-04-01 00:00:00  2014-01-19 00:00:00   \n",
       "2  7UP6MS         0 2010-10-03  2010-12-01 00:00:00  2011-07-06 00:00:00   \n",
       "3  7ZEW8G         0 2010-10-22  2011-03-28 00:00:00  2011-03-28 00:00:00   \n",
       "4  8V726M         1 2010-11-27  2010-11-29 00:00:00  2013-01-28 00:00:00   \n",
       "\n",
       "   esent   eopenrate  eclickrate  avgorder   ordfreq  paperless  refill  \\\n",
       "0     29  100.000000    3.448276     14.52  0.000000          0       0   \n",
       "1     95   92.631579   10.526316     83.69  0.181641          1       1   \n",
       "2      0    0.000000    0.000000     33.58  0.059908          0       0   \n",
       "3      0    0.000000    0.000000     54.96  0.000000          0       0   \n",
       "4     30   90.000000   13.333333    111.91  0.008850          0       0   \n",
       "\n",
       "   doorstep  train  favday  city  \n",
       "0         0      1       1     1  \n",
       "1         1      1       0     1  \n",
       "2         0      1       6     1  \n",
       "3         0      1       4     3  \n",
       "4         0      1       1     3  "
      ]
     },
     "execution_count": 11,
     "metadata": {},
     "output_type": "execute_result"
    }
   ],
   "source": [
    "# Encode/transform categorical variables 'favday' and 'city'\n",
    "le = LabelEncoder()\n",
    "training_df['favday'] = le.fit_transform(training_df['favday'])\n",
    "training_df['city'] = le.fit_transform(training_df['city'])\n",
    "training_df.head()"
   ]
  },
  {
   "cell_type": "code",
   "execution_count": 12,
   "metadata": {},
   "outputs": [],
   "source": [
    "# Instantiate a LogisiticRegression class\n",
    "lr = LogisticRegression()"
   ]
  },
  {
   "cell_type": "code",
   "execution_count": 13,
   "metadata": {},
   "outputs": [],
   "source": [
    "# Split training dataset into X_train and y_train\n",
    "X_train, y_train = (training_df[['esent','eopenrate','eclickrate','avgorder','ordfreq','paperless','refill','doorstep','train','favday','city']],training_df['retained'])"
   ]
  },
  {
   "cell_type": "code",
   "execution_count": 14,
   "metadata": {
    "scrolled": true
   },
   "outputs": [
    {
     "data": {
      "text/html": [
       "<div>\n",
       "<style scoped>\n",
       "    .dataframe tbody tr th:only-of-type {\n",
       "        vertical-align: middle;\n",
       "    }\n",
       "\n",
       "    .dataframe tbody tr th {\n",
       "        vertical-align: top;\n",
       "    }\n",
       "\n",
       "    .dataframe thead th {\n",
       "        text-align: right;\n",
       "    }\n",
       "</style>\n",
       "<table border=\"1\" class=\"dataframe\">\n",
       "  <thead>\n",
       "    <tr style=\"text-align: right;\">\n",
       "      <th></th>\n",
       "      <th>esent</th>\n",
       "      <th>eopenrate</th>\n",
       "      <th>eclickrate</th>\n",
       "      <th>avgorder</th>\n",
       "      <th>ordfreq</th>\n",
       "      <th>paperless</th>\n",
       "      <th>refill</th>\n",
       "      <th>doorstep</th>\n",
       "      <th>train</th>\n",
       "      <th>favday</th>\n",
       "      <th>city</th>\n",
       "    </tr>\n",
       "  </thead>\n",
       "  <tbody>\n",
       "    <tr>\n",
       "      <th>0</th>\n",
       "      <td>29</td>\n",
       "      <td>100.000000</td>\n",
       "      <td>3.448276</td>\n",
       "      <td>14.52</td>\n",
       "      <td>0.000000</td>\n",
       "      <td>0</td>\n",
       "      <td>0</td>\n",
       "      <td>0</td>\n",
       "      <td>1</td>\n",
       "      <td>1</td>\n",
       "      <td>1</td>\n",
       "    </tr>\n",
       "    <tr>\n",
       "      <th>1</th>\n",
       "      <td>95</td>\n",
       "      <td>92.631579</td>\n",
       "      <td>10.526316</td>\n",
       "      <td>83.69</td>\n",
       "      <td>0.181641</td>\n",
       "      <td>1</td>\n",
       "      <td>1</td>\n",
       "      <td>1</td>\n",
       "      <td>1</td>\n",
       "      <td>0</td>\n",
       "      <td>1</td>\n",
       "    </tr>\n",
       "    <tr>\n",
       "      <th>2</th>\n",
       "      <td>0</td>\n",
       "      <td>0.000000</td>\n",
       "      <td>0.000000</td>\n",
       "      <td>33.58</td>\n",
       "      <td>0.059908</td>\n",
       "      <td>0</td>\n",
       "      <td>0</td>\n",
       "      <td>0</td>\n",
       "      <td>1</td>\n",
       "      <td>6</td>\n",
       "      <td>1</td>\n",
       "    </tr>\n",
       "    <tr>\n",
       "      <th>3</th>\n",
       "      <td>0</td>\n",
       "      <td>0.000000</td>\n",
       "      <td>0.000000</td>\n",
       "      <td>54.96</td>\n",
       "      <td>0.000000</td>\n",
       "      <td>0</td>\n",
       "      <td>0</td>\n",
       "      <td>0</td>\n",
       "      <td>1</td>\n",
       "      <td>4</td>\n",
       "      <td>3</td>\n",
       "    </tr>\n",
       "    <tr>\n",
       "      <th>4</th>\n",
       "      <td>30</td>\n",
       "      <td>90.000000</td>\n",
       "      <td>13.333333</td>\n",
       "      <td>111.91</td>\n",
       "      <td>0.008850</td>\n",
       "      <td>0</td>\n",
       "      <td>0</td>\n",
       "      <td>0</td>\n",
       "      <td>1</td>\n",
       "      <td>1</td>\n",
       "      <td>3</td>\n",
       "    </tr>\n",
       "  </tbody>\n",
       "</table>\n",
       "</div>"
      ],
      "text/plain": [
       "   esent   eopenrate  eclickrate  avgorder   ordfreq  paperless  refill  \\\n",
       "0     29  100.000000    3.448276     14.52  0.000000          0       0   \n",
       "1     95   92.631579   10.526316     83.69  0.181641          1       1   \n",
       "2      0    0.000000    0.000000     33.58  0.059908          0       0   \n",
       "3      0    0.000000    0.000000     54.96  0.000000          0       0   \n",
       "4     30   90.000000   13.333333    111.91  0.008850          0       0   \n",
       "\n",
       "   doorstep  train  favday  city  \n",
       "0         0      1       1     1  \n",
       "1         1      1       0     1  \n",
       "2         0      1       6     1  \n",
       "3         0      1       4     3  \n",
       "4         0      1       1     3  "
      ]
     },
     "execution_count": 14,
     "metadata": {},
     "output_type": "execute_result"
    }
   ],
   "source": [
    "# Check the first 5 rows of X_train\n",
    "X_train.head()"
   ]
  },
  {
   "cell_type": "code",
   "execution_count": 15,
   "metadata": {},
   "outputs": [
    {
     "data": {
      "text/plain": [
       "0    0\n",
       "1    1\n",
       "2    0\n",
       "3    0\n",
       "4    1\n",
       "Name: retained, dtype: int64"
      ]
     },
     "execution_count": 15,
     "metadata": {},
     "output_type": "execute_result"
    }
   ],
   "source": [
    "# Check the first 5 rows of y_train\n",
    "y_train.head()"
   ]
  },
  {
   "cell_type": "code",
   "execution_count": 16,
   "metadata": {},
   "outputs": [
    {
     "name": "stdout",
     "output_type": "stream",
     "text": [
      "The coefficients of our logreg model are [array([ 0.21207411,  0.00579462,  0.01315318, -0.00355594, -0.57737349,\n",
      "        0.38339248,  0.74983522,  0.80515318, -1.14030893, -0.03492538,\n",
      "       -0.10563622])]\n",
      "The intercept of our logreg model is [-1.14030893]\n"
     ]
    }
   ],
   "source": [
    "# Fit our Logistic Regression model to the training dataset\n",
    "logreg = lr.fit(X_train, y_train)\n",
    "print(\"The coefficients of our logreg model are \" + str(list(logreg.coef_)))\n",
    "print(\"The intercept of our logreg model is \" + str(logreg.intercept_))"
   ]
  },
  {
   "cell_type": "code",
   "execution_count": 17,
   "metadata": {},
   "outputs": [
    {
     "name": "stdout",
     "output_type": "stream",
     "text": [
      "The accuracy of our Logistic Regression model is 94.18206986401759%\n"
     ]
    }
   ],
   "source": [
    "print(\"The accuracy of our Logistic Regression model is \" + str(logreg.score(X_train, y_train)*100) + \"%\")"
   ]
  },
  {
   "cell_type": "code",
   "execution_count": 18,
   "metadata": {},
   "outputs": [],
   "source": [
    "# Import our testing dataset\n",
    "test_df = pd.read_excel(\"/Users/jasoneisele/Desktop/Relay_Data_HW2_2_2_2_2/relaytest.xlsx\")"
   ]
  },
  {
   "cell_type": "code",
   "execution_count": 19,
   "metadata": {},
   "outputs": [
    {
     "data": {
      "text/html": [
       "<div>\n",
       "<style scoped>\n",
       "    .dataframe tbody tr th:only-of-type {\n",
       "        vertical-align: middle;\n",
       "    }\n",
       "\n",
       "    .dataframe tbody tr th {\n",
       "        vertical-align: top;\n",
       "    }\n",
       "\n",
       "    .dataframe thead th {\n",
       "        text-align: right;\n",
       "    }\n",
       "</style>\n",
       "<table border=\"1\" class=\"dataframe\">\n",
       "  <thead>\n",
       "    <tr style=\"text-align: right;\">\n",
       "      <th></th>\n",
       "      <th>custid</th>\n",
       "      <th>retained</th>\n",
       "      <th>created</th>\n",
       "      <th>firstorder</th>\n",
       "      <th>lastorder</th>\n",
       "      <th>esent</th>\n",
       "      <th>eopenrate</th>\n",
       "      <th>eclickrate</th>\n",
       "      <th>avgorder</th>\n",
       "      <th>ordfreq</th>\n",
       "      <th>paperless</th>\n",
       "      <th>refill</th>\n",
       "      <th>doorstep</th>\n",
       "      <th>train</th>\n",
       "      <th>favday</th>\n",
       "      <th>city</th>\n",
       "    </tr>\n",
       "  </thead>\n",
       "  <tbody>\n",
       "    <tr>\n",
       "      <th>0</th>\n",
       "      <td>QPRVDD</td>\n",
       "      <td>1</td>\n",
       "      <td>2010-11-09</td>\n",
       "      <td>2011-05-12 00:00:00</td>\n",
       "      <td>2013-10-21 00:00:00</td>\n",
       "      <td>174</td>\n",
       "      <td>96.551724</td>\n",
       "      <td>12.643678</td>\n",
       "      <td>94.50</td>\n",
       "      <td>0.047032</td>\n",
       "      <td>1</td>\n",
       "      <td>1</td>\n",
       "      <td>0</td>\n",
       "      <td>0</td>\n",
       "      <td>Friday</td>\n",
       "      <td>CHO</td>\n",
       "    </tr>\n",
       "    <tr>\n",
       "      <th>1</th>\n",
       "      <td>HUBE83</td>\n",
       "      <td>1</td>\n",
       "      <td>2011-02-01</td>\n",
       "      <td>2011-02-01 00:00:00</td>\n",
       "      <td>2013-10-27 00:00:00</td>\n",
       "      <td>49</td>\n",
       "      <td>20.408163</td>\n",
       "      <td>2.040816</td>\n",
       "      <td>43.21</td>\n",
       "      <td>0.016016</td>\n",
       "      <td>0</td>\n",
       "      <td>0</td>\n",
       "      <td>0</td>\n",
       "      <td>0</td>\n",
       "      <td>Monday</td>\n",
       "      <td>CHO</td>\n",
       "    </tr>\n",
       "    <tr>\n",
       "      <th>2</th>\n",
       "      <td>GW8AUL</td>\n",
       "      <td>1</td>\n",
       "      <td>2010-09-24</td>\n",
       "      <td>2011-05-05 00:00:00</td>\n",
       "      <td>2014-01-19 00:00:00</td>\n",
       "      <td>51</td>\n",
       "      <td>64.705882</td>\n",
       "      <td>25.490196</td>\n",
       "      <td>81.15</td>\n",
       "      <td>0.151515</td>\n",
       "      <td>1</td>\n",
       "      <td>0</td>\n",
       "      <td>0</td>\n",
       "      <td>0</td>\n",
       "      <td>Monday</td>\n",
       "      <td>RIC</td>\n",
       "    </tr>\n",
       "    <tr>\n",
       "      <th>3</th>\n",
       "      <td>WYSPZ7</td>\n",
       "      <td>0</td>\n",
       "      <td>2010-09-06</td>\n",
       "      <td>2011-03-22 00:00:00</td>\n",
       "      <td>2014-01-14 00:00:00</td>\n",
       "      <td>9</td>\n",
       "      <td>44.444444</td>\n",
       "      <td>0.000000</td>\n",
       "      <td>213.52</td>\n",
       "      <td>0.150632</td>\n",
       "      <td>1</td>\n",
       "      <td>1</td>\n",
       "      <td>0</td>\n",
       "      <td>0</td>\n",
       "      <td>Wednesday</td>\n",
       "      <td>CHO</td>\n",
       "    </tr>\n",
       "    <tr>\n",
       "      <th>4</th>\n",
       "      <td>ZLK255</td>\n",
       "      <td>0</td>\n",
       "      <td>2010-08-22</td>\n",
       "      <td>2011-09-06 00:00:00</td>\n",
       "      <td>2011-09-06 00:00:00</td>\n",
       "      <td>0</td>\n",
       "      <td>0.000000</td>\n",
       "      <td>0.000000</td>\n",
       "      <td>146.98</td>\n",
       "      <td>0.000000</td>\n",
       "      <td>0</td>\n",
       "      <td>0</td>\n",
       "      <td>0</td>\n",
       "      <td>0</td>\n",
       "      <td>Tuesday</td>\n",
       "      <td>CHO</td>\n",
       "    </tr>\n",
       "  </tbody>\n",
       "</table>\n",
       "</div>"
      ],
      "text/plain": [
       "   custid  retained    created           firstorder            lastorder  \\\n",
       "0  QPRVDD         1 2010-11-09  2011-05-12 00:00:00  2013-10-21 00:00:00   \n",
       "1  HUBE83         1 2011-02-01  2011-02-01 00:00:00  2013-10-27 00:00:00   \n",
       "2  GW8AUL         1 2010-09-24  2011-05-05 00:00:00  2014-01-19 00:00:00   \n",
       "3  WYSPZ7         0 2010-09-06  2011-03-22 00:00:00  2014-01-14 00:00:00   \n",
       "4  ZLK255         0 2010-08-22  2011-09-06 00:00:00  2011-09-06 00:00:00   \n",
       "\n",
       "   esent  eopenrate  eclickrate  avgorder   ordfreq  paperless  refill  \\\n",
       "0    174  96.551724   12.643678     94.50  0.047032          1       1   \n",
       "1     49  20.408163    2.040816     43.21  0.016016          0       0   \n",
       "2     51  64.705882   25.490196     81.15  0.151515          1       0   \n",
       "3      9  44.444444    0.000000    213.52  0.150632          1       1   \n",
       "4      0   0.000000    0.000000    146.98  0.000000          0       0   \n",
       "\n",
       "   doorstep  train     favday city  \n",
       "0         0      0     Friday  CHO  \n",
       "1         0      0     Monday  CHO  \n",
       "2         0      0     Monday  RIC  \n",
       "3         0      0  Wednesday  CHO  \n",
       "4         0      0    Tuesday  CHO  "
      ]
     },
     "execution_count": 19,
     "metadata": {},
     "output_type": "execute_result"
    }
   ],
   "source": [
    "# Check the first 5 rows\n",
    "test_df.head()"
   ]
  },
  {
   "cell_type": "code",
   "execution_count": 20,
   "metadata": {},
   "outputs": [
    {
     "name": "stdout",
     "output_type": "stream",
     "text": [
      "The shape of our test dataframe is 6222 rows, and 16 columns\n"
     ]
    }
   ],
   "source": [
    "print(\"The shape of our test dataframe is {}\".format(test_df.shape[0]) + \" rows, and {}\".format(test_df.shape[1]) + \" columns\")"
   ]
  },
  {
   "cell_type": "code",
   "execution_count": 21,
   "metadata": {},
   "outputs": [
    {
     "data": {
      "text/plain": [
       "custid        3\n",
       "retained      0\n",
       "created       3\n",
       "firstorder    3\n",
       "lastorder     3\n",
       "esent         0\n",
       "eopenrate     0\n",
       "eclickrate    0\n",
       "avgorder      0\n",
       "ordfreq       0\n",
       "paperless     0\n",
       "refill        0\n",
       "doorstep      0\n",
       "train         0\n",
       "favday        0\n",
       "city          0\n",
       "dtype: int64"
      ]
     },
     "execution_count": 21,
     "metadata": {},
     "output_type": "execute_result"
    }
   ],
   "source": [
    "#Check for any missing values\n",
    "test_df.isnull().sum()"
   ]
  },
  {
   "cell_type": "code",
   "execution_count": 22,
   "metadata": {},
   "outputs": [],
   "source": [
    "# Drop rows where custid has missing values\n",
    "test_df = test_df[pd.notnull(test_df['custid'])]"
   ]
  },
  {
   "cell_type": "code",
   "execution_count": 23,
   "metadata": {},
   "outputs": [
    {
     "data": {
      "text/plain": [
       "custid        0\n",
       "retained      0\n",
       "created       0\n",
       "firstorder    0\n",
       "lastorder     0\n",
       "esent         0\n",
       "eopenrate     0\n",
       "eclickrate    0\n",
       "avgorder      0\n",
       "ordfreq       0\n",
       "paperless     0\n",
       "refill        0\n",
       "doorstep      0\n",
       "train         0\n",
       "favday        0\n",
       "city          0\n",
       "dtype: int64"
      ]
     },
     "execution_count": 23,
     "metadata": {},
     "output_type": "execute_result"
    }
   ],
   "source": [
    "# Recheck for missing values\n",
    "test_df.isnull().sum()"
   ]
  },
  {
   "cell_type": "code",
   "execution_count": 24,
   "metadata": {},
   "outputs": [
    {
     "data": {
      "text/html": [
       "<div>\n",
       "<style scoped>\n",
       "    .dataframe tbody tr th:only-of-type {\n",
       "        vertical-align: middle;\n",
       "    }\n",
       "\n",
       "    .dataframe tbody tr th {\n",
       "        vertical-align: top;\n",
       "    }\n",
       "\n",
       "    .dataframe thead th {\n",
       "        text-align: right;\n",
       "    }\n",
       "</style>\n",
       "<table border=\"1\" class=\"dataframe\">\n",
       "  <thead>\n",
       "    <tr style=\"text-align: right;\">\n",
       "      <th></th>\n",
       "      <th>custid</th>\n",
       "      <th>retained</th>\n",
       "      <th>created</th>\n",
       "      <th>firstorder</th>\n",
       "      <th>lastorder</th>\n",
       "      <th>esent</th>\n",
       "      <th>eopenrate</th>\n",
       "      <th>eclickrate</th>\n",
       "      <th>avgorder</th>\n",
       "      <th>ordfreq</th>\n",
       "      <th>paperless</th>\n",
       "      <th>refill</th>\n",
       "      <th>doorstep</th>\n",
       "      <th>train</th>\n",
       "      <th>favday</th>\n",
       "      <th>city</th>\n",
       "    </tr>\n",
       "  </thead>\n",
       "  <tbody>\n",
       "    <tr>\n",
       "      <th>0</th>\n",
       "      <td>QPRVDD</td>\n",
       "      <td>1</td>\n",
       "      <td>2010-11-09</td>\n",
       "      <td>2011-05-12 00:00:00</td>\n",
       "      <td>2013-10-21 00:00:00</td>\n",
       "      <td>174</td>\n",
       "      <td>96.551724</td>\n",
       "      <td>12.643678</td>\n",
       "      <td>94.50</td>\n",
       "      <td>0.047032</td>\n",
       "      <td>1</td>\n",
       "      <td>1</td>\n",
       "      <td>0</td>\n",
       "      <td>0</td>\n",
       "      <td>0</td>\n",
       "      <td>1</td>\n",
       "    </tr>\n",
       "    <tr>\n",
       "      <th>1</th>\n",
       "      <td>HUBE83</td>\n",
       "      <td>1</td>\n",
       "      <td>2011-02-01</td>\n",
       "      <td>2011-02-01 00:00:00</td>\n",
       "      <td>2013-10-27 00:00:00</td>\n",
       "      <td>49</td>\n",
       "      <td>20.408163</td>\n",
       "      <td>2.040816</td>\n",
       "      <td>43.21</td>\n",
       "      <td>0.016016</td>\n",
       "      <td>0</td>\n",
       "      <td>0</td>\n",
       "      <td>0</td>\n",
       "      <td>0</td>\n",
       "      <td>1</td>\n",
       "      <td>1</td>\n",
       "    </tr>\n",
       "    <tr>\n",
       "      <th>2</th>\n",
       "      <td>GW8AUL</td>\n",
       "      <td>1</td>\n",
       "      <td>2010-09-24</td>\n",
       "      <td>2011-05-05 00:00:00</td>\n",
       "      <td>2014-01-19 00:00:00</td>\n",
       "      <td>51</td>\n",
       "      <td>64.705882</td>\n",
       "      <td>25.490196</td>\n",
       "      <td>81.15</td>\n",
       "      <td>0.151515</td>\n",
       "      <td>1</td>\n",
       "      <td>0</td>\n",
       "      <td>0</td>\n",
       "      <td>0</td>\n",
       "      <td>1</td>\n",
       "      <td>3</td>\n",
       "    </tr>\n",
       "    <tr>\n",
       "      <th>3</th>\n",
       "      <td>WYSPZ7</td>\n",
       "      <td>0</td>\n",
       "      <td>2010-09-06</td>\n",
       "      <td>2011-03-22 00:00:00</td>\n",
       "      <td>2014-01-14 00:00:00</td>\n",
       "      <td>9</td>\n",
       "      <td>44.444444</td>\n",
       "      <td>0.000000</td>\n",
       "      <td>213.52</td>\n",
       "      <td>0.150632</td>\n",
       "      <td>1</td>\n",
       "      <td>1</td>\n",
       "      <td>0</td>\n",
       "      <td>0</td>\n",
       "      <td>6</td>\n",
       "      <td>1</td>\n",
       "    </tr>\n",
       "    <tr>\n",
       "      <th>4</th>\n",
       "      <td>ZLK255</td>\n",
       "      <td>0</td>\n",
       "      <td>2010-08-22</td>\n",
       "      <td>2011-09-06 00:00:00</td>\n",
       "      <td>2011-09-06 00:00:00</td>\n",
       "      <td>0</td>\n",
       "      <td>0.000000</td>\n",
       "      <td>0.000000</td>\n",
       "      <td>146.98</td>\n",
       "      <td>0.000000</td>\n",
       "      <td>0</td>\n",
       "      <td>0</td>\n",
       "      <td>0</td>\n",
       "      <td>0</td>\n",
       "      <td>5</td>\n",
       "      <td>1</td>\n",
       "    </tr>\n",
       "  </tbody>\n",
       "</table>\n",
       "</div>"
      ],
      "text/plain": [
       "   custid  retained    created           firstorder            lastorder  \\\n",
       "0  QPRVDD         1 2010-11-09  2011-05-12 00:00:00  2013-10-21 00:00:00   \n",
       "1  HUBE83         1 2011-02-01  2011-02-01 00:00:00  2013-10-27 00:00:00   \n",
       "2  GW8AUL         1 2010-09-24  2011-05-05 00:00:00  2014-01-19 00:00:00   \n",
       "3  WYSPZ7         0 2010-09-06  2011-03-22 00:00:00  2014-01-14 00:00:00   \n",
       "4  ZLK255         0 2010-08-22  2011-09-06 00:00:00  2011-09-06 00:00:00   \n",
       "\n",
       "   esent  eopenrate  eclickrate  avgorder   ordfreq  paperless  refill  \\\n",
       "0    174  96.551724   12.643678     94.50  0.047032          1       1   \n",
       "1     49  20.408163    2.040816     43.21  0.016016          0       0   \n",
       "2     51  64.705882   25.490196     81.15  0.151515          1       0   \n",
       "3      9  44.444444    0.000000    213.52  0.150632          1       1   \n",
       "4      0   0.000000    0.000000    146.98  0.000000          0       0   \n",
       "\n",
       "   doorstep  train  favday  city  \n",
       "0         0      0       0     1  \n",
       "1         0      0       1     1  \n",
       "2         0      0       1     3  \n",
       "3         0      0       6     1  \n",
       "4         0      0       5     1  "
      ]
     },
     "execution_count": 24,
     "metadata": {},
     "output_type": "execute_result"
    }
   ],
   "source": [
    "# Encode categorical variables favday and city\n",
    "le = LabelEncoder()\n",
    "test_df['favday'] = le.fit_transform(test_df['favday'])\n",
    "test_df['city'] = le.fit_transform(test_df['city'])\n",
    "test_df.head()"
   ]
  },
  {
   "cell_type": "code",
   "execution_count": 25,
   "metadata": {},
   "outputs": [],
   "source": [
    "# Split our testing dataset into X_test and y_test\n",
    "X_test, y_test = (test_df[['esent','eopenrate','eclickrate','avgorder','ordfreq','paperless','refill','doorstep','train','favday','city']],test_df['retained'])"
   ]
  },
  {
   "cell_type": "code",
   "execution_count": 26,
   "metadata": {},
   "outputs": [],
   "source": [
    "# Take our same fitted Logistic Regression model and use it to create a new predicted feature 'y_pred'\n",
    "y_pred = logreg.predict(X_test)"
   ]
  },
  {
   "cell_type": "code",
   "execution_count": 27,
   "metadata": {},
   "outputs": [
    {
     "name": "stdout",
     "output_type": "stream",
     "text": [
      "             precision    recall  f1-score   support\n",
      "\n",
      "          0       0.99      0.69      0.81      1286\n",
      "          1       0.93      1.00      0.96      4933\n",
      "\n",
      "avg / total       0.94      0.93      0.93      6219\n",
      "\n"
     ]
    }
   ],
   "source": [
    "# Compare the precision, recal, and f1-score between our predicted values y_pred) and our real test values (y_test)\n",
    "print(classification_report(y_test, y_pred))"
   ]
  },
  {
   "cell_type": "code",
   "execution_count": 28,
   "metadata": {},
   "outputs": [
    {
     "name": "stdout",
     "output_type": "stream",
     "text": [
      "[[ 887  399]\n",
      " [   8 4925]]\n"
     ]
    }
   ],
   "source": [
    "# Confusion matrix shows the hit rate\n",
    "print(confusion_matrix(y_test, y_pred))"
   ]
  },
  {
   "cell_type": "code",
   "execution_count": 29,
   "metadata": {},
   "outputs": [
    {
     "name": "stdout",
     "output_type": "stream",
     "text": [
      "The accuracy of our Logistic Regression model on the test data is 93.45553947579997%\n"
     ]
    }
   ],
   "source": [
    "print(\"The accuracy of our Logistic Regression model on the test data is \" + str(logreg.score(X_test, y_test)*100) + \"%\")"
   ]
  },
  {
   "cell_type": "markdown",
   "metadata": {},
   "source": [
    "### Our model only lost a 0.7% dip in accuracy from training data to test data"
   ]
  },
  {
   "cell_type": "markdown",
   "metadata": {},
   "source": [
    "### Question 1\n",
    "Use the Relay train data to develop a model to predict customer retention. You\n",
    "may use logistic regression to predict the variable \"retained.\" You can use any\n",
    "combination of the independent variables available in the data to obtain a model\n",
    "with the best predictive ability and usability. You are free to use different\n",
    "transformations and combinations of the independent variables. Be aware that\n",
    "there is no “magic bullet” to finding the ideal model. You will have to go through\n",
    "multiple iterations."
   ]
  },
  {
   "cell_type": "code",
   "execution_count": 30,
   "metadata": {},
   "outputs": [
    {
     "name": "stdout",
     "output_type": "stream",
     "text": [
      "LogisticRegression(C=1.0, class_weight=None, dual=False, fit_intercept=True,\n",
      "          intercept_scaling=1, max_iter=100, multi_class='ovr', n_jobs=1,\n",
      "          penalty='l2', random_state=None, solver='liblinear', tol=0.0001,\n",
      "          verbose=0, warm_start=False)\n"
     ]
    }
   ],
   "source": [
    "print(logreg)"
   ]
  },
  {
   "cell_type": "code",
   "execution_count": 31,
   "metadata": {},
   "outputs": [
    {
     "name": "stdout",
     "output_type": "stream",
     "text": [
      "The accuracy of our Logistic Regression model is 94.18206986401759%\n"
     ]
    }
   ],
   "source": [
    "print(\"The accuracy of our Logistic Regression model is \" + str(logreg.score(X_train, y_train)*100) + \"%\")"
   ]
  },
  {
   "cell_type": "code",
   "execution_count": 32,
   "metadata": {},
   "outputs": [
    {
     "name": "stdout",
     "output_type": "stream",
     "text": [
      "The coefficients of our logreg model are [[ 0.21207411  0.00579462  0.01315318 -0.00355594 -0.57737349  0.38339248\n",
      "   0.74983522  0.80515318 -1.14030893 -0.03492538 -0.10563622]]\n"
     ]
    }
   ],
   "source": [
    "print(\"The coefficients of our logreg model are \" + str(logreg.coef_))"
   ]
  },
  {
   "cell_type": "code",
   "execution_count": 33,
   "metadata": {},
   "outputs": [
    {
     "name": "stdout",
     "output_type": "stream",
     "text": [
      "The intercept of our logreg model is [-1.14030893]\n"
     ]
    }
   ],
   "source": [
    "print(\"The intercept of our logreg model is \" + str(logreg.intercept_))"
   ]
  },
  {
   "cell_type": "markdown",
   "metadata": {},
   "source": [
    "### Question 2\n",
    "Once you obtain the best model that you can find, predict retention in the test\n",
    "data. You will use the coefficients obtained from the model estimated using the\n",
    "train data to do this. Name this predicted value \"pretain.\""
   ]
  },
  {
   "cell_type": "code",
   "execution_count": 34,
   "metadata": {},
   "outputs": [
    {
     "name": "stdout",
     "output_type": "stream",
     "text": [
      "             precision    recall  f1-score   support\n",
      "\n",
      "          0       0.99      0.69      0.81      1286\n",
      "          1       0.93      1.00      0.96      4933\n",
      "\n",
      "avg / total       0.94      0.93      0.93      6219\n",
      "\n"
     ]
    }
   ],
   "source": [
    "print(classification_report(y_test, y_pred))"
   ]
  },
  {
   "cell_type": "markdown",
   "metadata": {},
   "source": [
    "### Question 3\n",
    "Calculate the hit rate. This can be calculated as % of matches between the value\n",
    "of pretain and retained in the train data."
   ]
  },
  {
   "cell_type": "code",
   "execution_count": 35,
   "metadata": {},
   "outputs": [
    {
     "name": "stdout",
     "output_type": "stream",
     "text": [
      "[[ 887  399]\n",
      " [   8 4925]]\n"
     ]
    }
   ],
   "source": [
    "print(confusion_matrix(y_test, y_pred))"
   ]
  },
  {
   "cell_type": "markdown",
   "metadata": {},
   "source": [
    "### Question 4\n",
    "Be prepared to present your results in class. The team with the best model, as\n",
    "judged by your peers, will win \"bragging rights.\""
   ]
  },
  {
   "cell_type": "code",
   "execution_count": null,
   "metadata": {},
   "outputs": [],
   "source": []
  }
 ],
 "metadata": {
  "kernelspec": {
   "display_name": "Python 3",
   "language": "python",
   "name": "python3"
  },
  "language_info": {
   "codemirror_mode": {
    "name": "ipython",
    "version": 3
   },
   "file_extension": ".py",
   "mimetype": "text/x-python",
   "name": "python",
   "nbconvert_exporter": "python",
   "pygments_lexer": "ipython3",
   "version": "3.6.5"
  }
 },
 "nbformat": 4,
 "nbformat_minor": 2
}

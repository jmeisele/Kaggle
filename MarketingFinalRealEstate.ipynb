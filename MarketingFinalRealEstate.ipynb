{
 "cells": [
  {
   "cell_type": "markdown",
   "metadata": {},
   "source": [
    "# Marketing Analytics Final Project"
   ]
  },
  {
   "cell_type": "markdown",
   "metadata": {},
   "source": [
    "## Notebook Contents"
   ]
  },
  {
   "cell_type": "markdown",
   "metadata": {},
   "source": [
    "1. Business Understanding\n",
    "    - Objective\n",
    "    - Description\n",
    "2. Data Understanding\n",
    "    - Import libraries\n",
    "    - Load data\n",
    "    - Statistical summaries and visualizations\n",
    "3. Data Preparation\n",
    "    - Missing values imputation\n",
    "    - Feature engineering\n",
    "4. Modeling\n",
    "    - Select the model\n",
    "    - Build and fit model\n",
    "5. Evaluation\n",
    "    - Model performance\n",
    "    - Hyperparameter tuning if applicable"
   ]
  },
  {
   "cell_type": "markdown",
   "metadata": {},
   "source": [
    "### 1.0 Business Understanding"
   ]
  },
  {
   "cell_type": "markdown",
   "metadata": {},
   "source": [
    "### 1.1 Objectives\n",
    "- Leverage analytics techniques, such as clustering to identify likely buyer segments & top attributes they're seeking in a home\n",
    "- Use methods such a regression, to analyze market activity and the  influence both controllable and uncontrollable variables have on sales and the likelihood of selling at a higher sale-to-list price ratio in the shortest amount of time.\n"
   ]
  },
  {
   "cell_type": "markdown",
   "metadata": {},
   "source": [
    "### 1.2 Description\n",
    "The housing market is always a hotly contested area with potential desicions that have lifetime ramifications. Our marketing analytics team has been brought in by Temax Realty group to conduct research to aid their efforts in their offices located in Texas and Missouri"
   ]
  },
  {
   "cell_type": "markdown",
   "metadata": {},
   "source": [
    "### 2.0 Data Understanding"
   ]
  },
  {
   "cell_type": "markdown",
   "metadata": {},
   "source": [
    "### 2.1 Import Libraries\n",
    "First off some preparation. We need to import python libraries containing the necessary functionality we will need."
   ]
  },
  {
   "cell_type": "code",
   "execution_count": 1,
   "metadata": {},
   "outputs": [
    {
     "name": "stderr",
     "output_type": "stream",
     "text": [
      "C:\\Anaconda\\lib\\site-packages\\sklearn\\cross_validation.py:41: DeprecationWarning: This module was deprecated in version 0.18 in favor of the model_selection module into which all the refactored classes and functions are moved. Also note that the interface of the new CV iterators are different from that of this module. This module will be removed in 0.20.\n",
      "  \"This module will be removed in 0.20.\", DeprecationWarning)\n"
     ]
    }
   ],
   "source": [
    "# Ignore warnings\n",
    "import warnings\n",
    "warnings.filterwarnings('ignore')\n",
    "\n",
    "# Handle table-like data and matrices\n",
    "import numpy as np\n",
    "import pandas as pd\n",
    "\n",
    "# Modelling Algorithms\n",
    "from sklearn.tree import DecisionTreeClassifier\n",
    "from sklearn.linear_model import LogisticRegression\n",
    "from sklearn.neighbors import KNeighborsClassifier\n",
    "from sklearn.naive_bayes import GaussianNB\n",
    "from sklearn.svm import SVC, LinearSVC\n",
    "from sklearn.ensemble import RandomForestClassifier , GradientBoostingClassifier\n",
    "\n",
    "# Modelling Helpers\n",
    "from sklearn.preprocessing import Imputer , Normalizer , scale\n",
    "from sklearn.cross_validation import train_test_split , StratifiedKFold\n",
    "from sklearn.feature_selection import RFECV\n",
    "\n",
    "# Visualization\n",
    "import matplotlib as mpl\n",
    "import matplotlib.pyplot as plt\n",
    "import matplotlib.pylab as pylab\n",
    "import seaborn as sns\n",
    "\n",
    "# Configure visualisations\n",
    "%matplotlib inline\n",
    "mpl.style.use( 'ggplot' )\n",
    "sns.set_style( 'white' )\n",
    "pylab.rcParams[ 'figure.figsize' ] = 20 , 10\n",
    "pd.set_option('display.max_columns', 5000)"
   ]
  },
  {
   "cell_type": "markdown",
   "metadata": {},
   "source": [
    "### Setup Functions\n",
    "There is no need to understand this code, just some hacks I had previously stashed away to help expedite ML projects."
   ]
  },
  {
   "cell_type": "code",
   "execution_count": 2,
   "metadata": {},
   "outputs": [],
   "source": [
    "def plot_histograms( df , variables , n_rows , n_cols ):\n",
    "    fig = plt.figure( figsize = ( 16 , 12 ) )\n",
    "    for i, var_name in enumerate( variables ):\n",
    "        ax=fig.add_subplot( n_rows , n_cols , i+1 )\n",
    "        df[ var_name ].hist( bins=10 , ax=ax )\n",
    "        ax.set_title( 'Skew: ' + str( round( float( df[ var_name ].skew() ) , ) ) ) # + ' ' + var_name ) #var_name+\" Distribution\")\n",
    "        ax.set_xticklabels( [] , visible=False )\n",
    "        ax.set_yticklabels( [] , visible=False )\n",
    "    fig.tight_layout()  # Improves appearance a bit.\n",
    "    plt.show()\n",
    "\n",
    "def plot_distribution( df , var , target , **kwargs ):\n",
    "    row = kwargs.get( 'row' , None )\n",
    "    col = kwargs.get( 'col' , None )\n",
    "    facet = sns.FacetGrid( df , hue=target , aspect=4 , row = row , col = col )\n",
    "    facet.map( sns.kdeplot , var , shade= True )\n",
    "    facet.set( xlim=( 0 , df[ var ].max() ) )\n",
    "    facet.add_legend()\n",
    "\n",
    "def plot_categories( df , cat , target , **kwargs ):\n",
    "    row = kwargs.get( 'row' , None )\n",
    "    col = kwargs.get( 'col' , None )\n",
    "    facet = sns.FacetGrid( df , row = row , col = col )\n",
    "    facet.map( sns.barplot , cat , target )\n",
    "    facet.add_legend()\n",
    "\n",
    "def plot_correlation_map( df ):\n",
    "    corr = titanic.corr()\n",
    "    _ , ax = plt.subplots( figsize =( 12 , 10 ) )\n",
    "    cmap = sns.diverging_palette( 220 , 10 , as_cmap = True )\n",
    "    _ = sns.heatmap(\n",
    "        corr, \n",
    "        cmap = cmap,\n",
    "        square=True, \n",
    "        cbar_kws={ 'shrink' : .9 }, \n",
    "        ax=ax, \n",
    "        annot = True, \n",
    "        annot_kws = { 'fontsize' : 12 }\n",
    "    )\n",
    "\n",
    "def describe_more( df ):\n",
    "    var = [] ; l = [] ; t = []\n",
    "    for x in df:\n",
    "        var.append( x )\n",
    "        l.append( len( pd.value_counts( df[ x ] ) ) )\n",
    "        t.append( df[ x ].dtypes )\n",
    "    levels = pd.DataFrame( { 'Variable' : var , 'Levels' : l , 'Datatype' : t } )\n",
    "    levels.sort_values( by = 'Levels' , inplace = True )\n",
    "    return levels\n",
    "\n",
    "def plot_variable_importance( X , y ):\n",
    "    tree = DecisionTreeClassifier( random_state = 99 )\n",
    "    tree.fit( X , y )\n",
    "    plot_model_var_imp( tree , X , y )\n",
    "    \n",
    "def plot_model_var_imp( model , X , y ):\n",
    "    imp = pd.DataFrame( \n",
    "        model.feature_importances_  , \n",
    "        columns = [ 'Importance' ] , \n",
    "        index = X.columns \n",
    "    )\n",
    "    imp = imp.sort_values( [ 'Importance' ] , ascending = True )\n",
    "    imp[ : 10 ].plot( kind = 'barh' )\n",
    "    print (model.score( X , y ))"
   ]
  },
  {
   "cell_type": "markdown",
   "metadata": {},
   "source": [
    "### 2.3 Load Data\n",
    "Now that our packages are loaded, let's read in and take a peek at the data"
   ]
  },
  {
   "cell_type": "code",
   "execution_count": 3,
   "metadata": {},
   "outputs": [
    {
     "data": {
      "text/html": [
       "<div>\n",
       "<style scoped>\n",
       "    .dataframe tbody tr th:only-of-type {\n",
       "        vertical-align: middle;\n",
       "    }\n",
       "\n",
       "    .dataframe tbody tr th {\n",
       "        vertical-align: top;\n",
       "    }\n",
       "\n",
       "    .dataframe thead th {\n",
       "        text-align: right;\n",
       "    }\n",
       "</style>\n",
       "<table border=\"1\" class=\"dataframe\">\n",
       "  <thead>\n",
       "    <tr style=\"text-align: right;\">\n",
       "      <th></th>\n",
       "      <th>RegionID</th>\n",
       "      <th>RegionName</th>\n",
       "      <th>StateName</th>\n",
       "      <th>SizeRank</th>\n",
       "      <th>MedianPrice</th>\n",
       "    </tr>\n",
       "  </thead>\n",
       "  <tbody>\n",
       "    <tr>\n",
       "      <th>2</th>\n",
       "      <td>91982.0</td>\n",
       "      <td>77494</td>\n",
       "      <td>Texas</td>\n",
       "      <td>3</td>\n",
       "      <td>336700.0</td>\n",
       "    </tr>\n",
       "    <tr>\n",
       "      <th>3</th>\n",
       "      <td>93144.0</td>\n",
       "      <td>79936</td>\n",
       "      <td>Texas</td>\n",
       "      <td>4</td>\n",
       "      <td>131200.0</td>\n",
       "    </tr>\n",
       "    <tr>\n",
       "      <th>4</th>\n",
       "      <td>91940.0</td>\n",
       "      <td>77449</td>\n",
       "      <td>Texas</td>\n",
       "      <td>5</td>\n",
       "      <td>177400.0</td>\n",
       "    </tr>\n",
       "    <tr>\n",
       "      <th>7</th>\n",
       "      <td>92593.0</td>\n",
       "      <td>78660</td>\n",
       "      <td>Texas</td>\n",
       "      <td>8</td>\n",
       "      <td>246100.0</td>\n",
       "    </tr>\n",
       "    <tr>\n",
       "      <th>11</th>\n",
       "      <td>92036.0</td>\n",
       "      <td>77573</td>\n",
       "      <td>Texas</td>\n",
       "      <td>12</td>\n",
       "      <td>258800.0</td>\n",
       "    </tr>\n",
       "  </tbody>\n",
       "</table>\n",
       "</div>"
      ],
      "text/plain": [
       "    RegionID  RegionName StateName  SizeRank  MedianPrice\n",
       "2    91982.0       77494     Texas         3     336700.0\n",
       "3    93144.0       79936     Texas         4     131200.0\n",
       "4    91940.0       77449     Texas         5     177400.0\n",
       "7    92593.0       78660     Texas         8     246100.0\n",
       "11   92036.0       77573     Texas        12     258800.0"
      ]
     },
     "execution_count": 3,
     "metadata": {},
     "output_type": "execute_result"
    }
   ],
   "source": [
    "# Price Data\n",
    "price = pd.read_csv(\"C:\\\\Users\\\\EISELJA\\\\Desktop\\\\Kaggle-master\\\\datasets\\\\Sale_Prices_Zip.csv\")\n",
    "price = price[(price['StateName'] == 'Texas') | (price['StateName'] == 'Missouri')]\n",
    "price = price.loc[:,['RegionID','RegionName','StateName','SizeRank','2018-08']]\n",
    "price.rename(columns = {'2018-08': 'MedianPrice'}, inplace = True)\n",
    "price.head()"
   ]
  },
  {
   "cell_type": "code",
   "execution_count": 4,
   "metadata": {
    "scrolled": true
   },
   "outputs": [
    {
     "data": {
      "text/html": [
       "<div>\n",
       "<style scoped>\n",
       "    .dataframe tbody tr th:only-of-type {\n",
       "        vertical-align: middle;\n",
       "    }\n",
       "\n",
       "    .dataframe tbody tr th {\n",
       "        vertical-align: top;\n",
       "    }\n",
       "\n",
       "    .dataframe thead th {\n",
       "        text-align: right;\n",
       "    }\n",
       "</style>\n",
       "<table border=\"1\" class=\"dataframe\">\n",
       "  <thead>\n",
       "    <tr style=\"text-align: right;\">\n",
       "      <th></th>\n",
       "      <th>RegionName</th>\n",
       "      <th>City</th>\n",
       "      <th>State</th>\n",
       "      <th>Metro</th>\n",
       "      <th>CountyName</th>\n",
       "      <th>SizeRank</th>\n",
       "      <th>MedianSqftPrice</th>\n",
       "    </tr>\n",
       "  </thead>\n",
       "  <tbody>\n",
       "    <tr>\n",
       "      <th>1</th>\n",
       "      <td>77494</td>\n",
       "      <td>Katy</td>\n",
       "      <td>TX</td>\n",
       "      <td>Houston-The Woodlands-Sugar Land</td>\n",
       "      <td>Harris</td>\n",
       "      <td>2</td>\n",
       "      <td>120.092379</td>\n",
       "    </tr>\n",
       "    <tr>\n",
       "      <th>3</th>\n",
       "      <td>79936</td>\n",
       "      <td>El Paso</td>\n",
       "      <td>TX</td>\n",
       "      <td>El Paso</td>\n",
       "      <td>El Paso</td>\n",
       "      <td>4</td>\n",
       "      <td>91.593625</td>\n",
       "    </tr>\n",
       "    <tr>\n",
       "      <th>4</th>\n",
       "      <td>77449</td>\n",
       "      <td>Katy</td>\n",
       "      <td>TX</td>\n",
       "      <td>Houston-The Woodlands-Sugar Land</td>\n",
       "      <td>Harris</td>\n",
       "      <td>5</td>\n",
       "      <td>95.104408</td>\n",
       "    </tr>\n",
       "    <tr>\n",
       "      <th>5</th>\n",
       "      <td>77084</td>\n",
       "      <td>Houston</td>\n",
       "      <td>TX</td>\n",
       "      <td>Houston-The Woodlands-Sugar Land</td>\n",
       "      <td>Harris</td>\n",
       "      <td>6</td>\n",
       "      <td>93.765401</td>\n",
       "    </tr>\n",
       "    <tr>\n",
       "      <th>13</th>\n",
       "      <td>78660</td>\n",
       "      <td>Pflugerville</td>\n",
       "      <td>TX</td>\n",
       "      <td>Austin-Round Rock</td>\n",
       "      <td>Travis</td>\n",
       "      <td>14</td>\n",
       "      <td>127.524186</td>\n",
       "    </tr>\n",
       "  </tbody>\n",
       "</table>\n",
       "</div>"
      ],
      "text/plain": [
       "    RegionName          City State                             Metro  \\\n",
       "1        77494          Katy    TX  Houston-The Woodlands-Sugar Land   \n",
       "3        79936       El Paso    TX                           El Paso   \n",
       "4        77449          Katy    TX  Houston-The Woodlands-Sugar Land   \n",
       "5        77084       Houston    TX  Houston-The Woodlands-Sugar Land   \n",
       "13       78660  Pflugerville    TX                 Austin-Round Rock   \n",
       "\n",
       "   CountyName  SizeRank  MedianSqftPrice  \n",
       "1      Harris         2       120.092379  \n",
       "3     El Paso         4        91.593625  \n",
       "4      Harris         5        95.104408  \n",
       "5      Harris         6        93.765401  \n",
       "13     Travis        14       127.524186  "
      ]
     },
     "execution_count": 4,
     "metadata": {},
     "output_type": "execute_result"
    }
   ],
   "source": [
    "# Median square Foot Price\n",
    "med_sqft = pd.read_csv(\"C:\\\\Users\\\\EISELJA\\\\Desktop\\\\Kaggle-master\\\\datasets\\\\Zip_MedianListingPricePerSqft_AllHomes.csv\", encoding = \"ISO-8859-1\")\n",
    "med_sqft = med_sqft[(med_sqft['State'] == 'TX') | (med_sqft['State'] == 'MO')]\n",
    "med_sqft = med_sqft.loc[:,['RegionName','City','State','Metro','CountyName','SizeRank','2018-08']]\n",
    "med_sqft.rename(columns = {'2018-08': 'MedianSqftPrice'}, inplace = True)\n",
    "med_sqft.head()"
   ]
  },
  {
   "cell_type": "code",
   "execution_count": 5,
   "metadata": {},
   "outputs": [
    {
     "data": {
      "text/html": [
       "<div>\n",
       "<style scoped>\n",
       "    .dataframe tbody tr th:only-of-type {\n",
       "        vertical-align: middle;\n",
       "    }\n",
       "\n",
       "    .dataframe tbody tr th {\n",
       "        vertical-align: top;\n",
       "    }\n",
       "\n",
       "    .dataframe thead th {\n",
       "        text-align: right;\n",
       "    }\n",
       "</style>\n",
       "<table border=\"1\" class=\"dataframe\">\n",
       "  <thead>\n",
       "    <tr style=\"text-align: right;\">\n",
       "      <th></th>\n",
       "      <th>RegionName</th>\n",
       "      <th>City</th>\n",
       "      <th>State</th>\n",
       "      <th>Metro</th>\n",
       "      <th>CBSATitle</th>\n",
       "      <th>SizeRank</th>\n",
       "      <th>MarketHealthIndex</th>\n",
       "      <th>SellForGain</th>\n",
       "      <th>PrevForeclosed</th>\n",
       "      <th>ForeclosureRatio</th>\n",
       "      <th>ZHVI</th>\n",
       "      <th>MoM</th>\n",
       "      <th>YoY</th>\n",
       "      <th>ForecastYoYPctChange</th>\n",
       "      <th>StockOfREOs</th>\n",
       "      <th>NegativeEquity</th>\n",
       "      <th>Delinquency</th>\n",
       "      <th>DaysOnMarket</th>\n",
       "    </tr>\n",
       "  </thead>\n",
       "  <tbody>\n",
       "    <tr>\n",
       "      <th>10326</th>\n",
       "      <td>63005</td>\n",
       "      <td>Chesterfield</td>\n",
       "      <td>MO</td>\n",
       "      <td>St. Louis, MO, MO</td>\n",
       "      <td>St. Louis, MO</td>\n",
       "      <td>NaN</td>\n",
       "      <td>2.911129</td>\n",
       "      <td>58.82</td>\n",
       "      <td>0.0</td>\n",
       "      <td>0.00</td>\n",
       "      <td>541300.0</td>\n",
       "      <td>-0.147574</td>\n",
       "      <td>3.006660</td>\n",
       "      <td>0.023266</td>\n",
       "      <td>NaN</td>\n",
       "      <td>0.046258</td>\n",
       "      <td>0.020833</td>\n",
       "      <td>75.5</td>\n",
       "    </tr>\n",
       "    <tr>\n",
       "      <th>10327</th>\n",
       "      <td>63010</td>\n",
       "      <td>Arnold</td>\n",
       "      <td>MO</td>\n",
       "      <td>St. Louis, MO, MO</td>\n",
       "      <td>St. Louis, MO</td>\n",
       "      <td>NaN</td>\n",
       "      <td>6.760639</td>\n",
       "      <td>NaN</td>\n",
       "      <td>0.0</td>\n",
       "      <td>0.00</td>\n",
       "      <td>163200.0</td>\n",
       "      <td>0.430769</td>\n",
       "      <td>6.388527</td>\n",
       "      <td>0.060803</td>\n",
       "      <td>NaN</td>\n",
       "      <td>0.063042</td>\n",
       "      <td>0.025000</td>\n",
       "      <td>56.0</td>\n",
       "    </tr>\n",
       "    <tr>\n",
       "      <th>10328</th>\n",
       "      <td>63011</td>\n",
       "      <td>Ballwin</td>\n",
       "      <td>MO</td>\n",
       "      <td>St. Louis, MO, MO</td>\n",
       "      <td>St. Louis, MO</td>\n",
       "      <td>NaN</td>\n",
       "      <td>6.533092</td>\n",
       "      <td>88.89</td>\n",
       "      <td>0.0</td>\n",
       "      <td>0.00</td>\n",
       "      <td>300000.0</td>\n",
       "      <td>0.033344</td>\n",
       "      <td>6.496273</td>\n",
       "      <td>0.017770</td>\n",
       "      <td>NaN</td>\n",
       "      <td>0.041407</td>\n",
       "      <td>0.013378</td>\n",
       "      <td>59.0</td>\n",
       "    </tr>\n",
       "    <tr>\n",
       "      <th>10329</th>\n",
       "      <td>63012</td>\n",
       "      <td>Barnhart</td>\n",
       "      <td>MO</td>\n",
       "      <td>St. Louis, MO, MO</td>\n",
       "      <td>St. Louis, MO</td>\n",
       "      <td>NaN</td>\n",
       "      <td>5.285273</td>\n",
       "      <td>NaN</td>\n",
       "      <td>0.0</td>\n",
       "      <td>2.87</td>\n",
       "      <td>166000.0</td>\n",
       "      <td>0.545124</td>\n",
       "      <td>4.468219</td>\n",
       "      <td>0.070958</td>\n",
       "      <td>NaN</td>\n",
       "      <td>0.061144</td>\n",
       "      <td>0.016129</td>\n",
       "      <td>58.0</td>\n",
       "    </tr>\n",
       "    <tr>\n",
       "      <th>10330</th>\n",
       "      <td>63013</td>\n",
       "      <td>Beaufort</td>\n",
       "      <td>MO</td>\n",
       "      <td>St. Louis, MO, MO</td>\n",
       "      <td>St. Louis, MO</td>\n",
       "      <td>NaN</td>\n",
       "      <td>9.324070</td>\n",
       "      <td>NaN</td>\n",
       "      <td>NaN</td>\n",
       "      <td>NaN</td>\n",
       "      <td>188000.0</td>\n",
       "      <td>0.912507</td>\n",
       "      <td>15.266708</td>\n",
       "      <td>0.048176</td>\n",
       "      <td>NaN</td>\n",
       "      <td>0.063348</td>\n",
       "      <td>0.000000</td>\n",
       "      <td>75.0</td>\n",
       "    </tr>\n",
       "  </tbody>\n",
       "</table>\n",
       "</div>"
      ],
      "text/plain": [
       "       RegionName          City State              Metro      CBSATitle  \\\n",
       "10326       63005  Chesterfield    MO  St. Louis, MO, MO  St. Louis, MO   \n",
       "10327       63010        Arnold    MO  St. Louis, MO, MO  St. Louis, MO   \n",
       "10328       63011       Ballwin    MO  St. Louis, MO, MO  St. Louis, MO   \n",
       "10329       63012      Barnhart    MO  St. Louis, MO, MO  St. Louis, MO   \n",
       "10330       63013      Beaufort    MO  St. Louis, MO, MO  St. Louis, MO   \n",
       "\n",
       "       SizeRank  MarketHealthIndex  SellForGain  PrevForeclosed  \\\n",
       "10326       NaN           2.911129        58.82             0.0   \n",
       "10327       NaN           6.760639          NaN             0.0   \n",
       "10328       NaN           6.533092        88.89             0.0   \n",
       "10329       NaN           5.285273          NaN             0.0   \n",
       "10330       NaN           9.324070          NaN             NaN   \n",
       "\n",
       "       ForeclosureRatio      ZHVI       MoM        YoY  ForecastYoYPctChange  \\\n",
       "10326              0.00  541300.0 -0.147574   3.006660              0.023266   \n",
       "10327              0.00  163200.0  0.430769   6.388527              0.060803   \n",
       "10328              0.00  300000.0  0.033344   6.496273              0.017770   \n",
       "10329              2.87  166000.0  0.545124   4.468219              0.070958   \n",
       "10330               NaN  188000.0  0.912507  15.266708              0.048176   \n",
       "\n",
       "       StockOfREOs  NegativeEquity  Delinquency  DaysOnMarket  \n",
       "10326          NaN        0.046258     0.020833          75.5  \n",
       "10327          NaN        0.063042     0.025000          56.0  \n",
       "10328          NaN        0.041407     0.013378          59.0  \n",
       "10329          NaN        0.061144     0.016129          58.0  \n",
       "10330          NaN        0.063348     0.000000          75.0  "
      ]
     },
     "execution_count": 5,
     "metadata": {},
     "output_type": "execute_result"
    }
   ],
   "source": [
    "# Market Health index and Days on Market\n",
    "mkt_health_index = pd.read_csv(\"C:\\\\Users\\\\EISELJA\\\\Desktop\\\\Kaggle-master\\\\datasets\\\\MarketHealthIndex_Zip.csv\")\n",
    "mkt_health_index = mkt_health_index[(mkt_health_index['State'] == 'TX') | (mkt_health_index['State'] == 'MO')]\n",
    "mkt_health_index.drop(columns = 'RegionType', inplace = True)\n",
    "mkt_health_index.head()"
   ]
  },
  {
   "cell_type": "code",
   "execution_count": 6,
   "metadata": {
    "scrolled": false
   },
   "outputs": [
    {
     "data": {
      "text/html": [
       "<div>\n",
       "<style scoped>\n",
       "    .dataframe tbody tr th:only-of-type {\n",
       "        vertical-align: middle;\n",
       "    }\n",
       "\n",
       "    .dataframe tbody tr th {\n",
       "        vertical-align: top;\n",
       "    }\n",
       "\n",
       "    .dataframe thead th {\n",
       "        text-align: right;\n",
       "    }\n",
       "</style>\n",
       "<table border=\"1\" class=\"dataframe\">\n",
       "  <thead>\n",
       "    <tr style=\"text-align: right;\">\n",
       "      <th></th>\n",
       "      <th>RegionName</th>\n",
       "      <th>RegionType</th>\n",
       "      <th>City</th>\n",
       "      <th>CountyName</th>\n",
       "      <th>Metro</th>\n",
       "      <th>StateFullName</th>\n",
       "      <th>DataTypeDescription</th>\n",
       "      <th>Inventory</th>\n",
       "    </tr>\n",
       "  </thead>\n",
       "  <tbody>\n",
       "    <tr>\n",
       "      <th>3</th>\n",
       "      <td>77494</td>\n",
       "      <td>Zip</td>\n",
       "      <td>Katy</td>\n",
       "      <td>Harris</td>\n",
       "      <td>Houston-The Woodlands-Sugar Land</td>\n",
       "      <td>Texas</td>\n",
       "      <td>All Homes</td>\n",
       "      <td>831.0</td>\n",
       "    </tr>\n",
       "    <tr>\n",
       "      <th>5</th>\n",
       "      <td>79936</td>\n",
       "      <td>Zip</td>\n",
       "      <td>El Paso</td>\n",
       "      <td>El Paso</td>\n",
       "      <td>El Paso</td>\n",
       "      <td>Texas</td>\n",
       "      <td>All Homes</td>\n",
       "      <td>237.0</td>\n",
       "    </tr>\n",
       "    <tr>\n",
       "      <th>6</th>\n",
       "      <td>77449</td>\n",
       "      <td>Zip</td>\n",
       "      <td>Katy</td>\n",
       "      <td>Harris</td>\n",
       "      <td>Houston-The Woodlands-Sugar Land</td>\n",
       "      <td>Texas</td>\n",
       "      <td>All Homes</td>\n",
       "      <td>286.0</td>\n",
       "    </tr>\n",
       "    <tr>\n",
       "      <th>7</th>\n",
       "      <td>77084</td>\n",
       "      <td>Zip</td>\n",
       "      <td>Houston</td>\n",
       "      <td>Harris</td>\n",
       "      <td>Houston-The Woodlands-Sugar Land</td>\n",
       "      <td>Texas</td>\n",
       "      <td>All Homes</td>\n",
       "      <td>253.0</td>\n",
       "    </tr>\n",
       "    <tr>\n",
       "      <th>15</th>\n",
       "      <td>78660</td>\n",
       "      <td>Zip</td>\n",
       "      <td>Pflugerville</td>\n",
       "      <td>Travis</td>\n",
       "      <td>Austin-Round Rock</td>\n",
       "      <td>Texas</td>\n",
       "      <td>All Homes</td>\n",
       "      <td>439.0</td>\n",
       "    </tr>\n",
       "  </tbody>\n",
       "</table>\n",
       "</div>"
      ],
      "text/plain": [
       "    RegionName RegionType          City CountyName  \\\n",
       "3        77494        Zip          Katy     Harris   \n",
       "5        79936        Zip       El Paso    El Paso   \n",
       "6        77449        Zip          Katy     Harris   \n",
       "7        77084        Zip       Houston     Harris   \n",
       "15       78660        Zip  Pflugerville     Travis   \n",
       "\n",
       "                               Metro StateFullName DataTypeDescription  \\\n",
       "3   Houston-The Woodlands-Sugar Land         Texas           All Homes   \n",
       "5                            El Paso         Texas           All Homes   \n",
       "6   Houston-The Woodlands-Sugar Land         Texas           All Homes   \n",
       "7   Houston-The Woodlands-Sugar Land         Texas           All Homes   \n",
       "15                 Austin-Round Rock         Texas           All Homes   \n",
       "\n",
       "    Inventory  \n",
       "3       831.0  \n",
       "5       237.0  \n",
       "6       286.0  \n",
       "7       253.0  \n",
       "15      439.0  "
      ]
     },
     "execution_count": 6,
     "metadata": {},
     "output_type": "execute_result"
    }
   ],
   "source": [
    "# Inventory Measure\n",
    "inv_measure = pd.read_csv(\"C:\\\\Users\\\\EISELJA\\\\Desktop\\\\Kaggle-master\\\\datasets\\InventoryMeasure_Zip_Public.csv\", encoding = \"ISO-8859-1\")\n",
    "inv_measure = inv_measure[(inv_measure['StateFullName'] == 'Texas') | (inv_measure['StateFullName'] == 'Missouri')]\n",
    "inv_measure = inv_measure.loc[:,['RegionName','RegionType','City','CountyName','Metro','StateFullName','DataTypeDescription','2018-08']]\n",
    "inv_measure.rename(columns = {'2018-08': 'Inventory'}, inplace = True)\n",
    "inv_measure.head()"
   ]
  },
  {
   "cell_type": "code",
   "execution_count": 7,
   "metadata": {},
   "outputs": [
    {
     "data": {
      "text/html": [
       "<div>\n",
       "<style scoped>\n",
       "    .dataframe tbody tr th:only-of-type {\n",
       "        vertical-align: middle;\n",
       "    }\n",
       "\n",
       "    .dataframe tbody tr th {\n",
       "        vertical-align: top;\n",
       "    }\n",
       "\n",
       "    .dataframe thead th {\n",
       "        text-align: right;\n",
       "    }\n",
       "</style>\n",
       "<table border=\"1\" class=\"dataframe\">\n",
       "  <thead>\n",
       "    <tr style=\"text-align: right;\">\n",
       "      <th></th>\n",
       "      <th>RegionName</th>\n",
       "      <th>State</th>\n",
       "      <th>CBSA Title</th>\n",
       "      <th>SizeRankCity</th>\n",
       "      <th>SizeRankMetro</th>\n",
       "      <th>PctPriceCut</th>\n",
       "      <th>DaysOnMarket</th>\n",
       "      <th>BuyerSellerIndex</th>\n",
       "      <th>BuyerSellerIndexMetro</th>\n",
       "    </tr>\n",
       "  </thead>\n",
       "  <tbody>\n",
       "    <tr>\n",
       "      <th>0</th>\n",
       "      <td>79109</td>\n",
       "      <td>TX</td>\n",
       "      <td>Amarillo, TX</td>\n",
       "      <td>2734</td>\n",
       "      <td>181</td>\n",
       "      <td>27.181208</td>\n",
       "      <td>69.0</td>\n",
       "      <td>7.272727</td>\n",
       "      <td>9.10221</td>\n",
       "    </tr>\n",
       "    <tr>\n",
       "      <th>1</th>\n",
       "      <td>79106</td>\n",
       "      <td>TX</td>\n",
       "      <td>Amarillo, TX</td>\n",
       "      <td>5504</td>\n",
       "      <td>181</td>\n",
       "      <td>26.845638</td>\n",
       "      <td>73.5</td>\n",
       "      <td>8.181818</td>\n",
       "      <td>9.10221</td>\n",
       "    </tr>\n",
       "    <tr>\n",
       "      <th>2</th>\n",
       "      <td>79107</td>\n",
       "      <td>TX</td>\n",
       "      <td>Amarillo, TX</td>\n",
       "      <td>6284</td>\n",
       "      <td>181</td>\n",
       "      <td>15.094340</td>\n",
       "      <td>107.0</td>\n",
       "      <td>5.454545</td>\n",
       "      <td>9.10221</td>\n",
       "    </tr>\n",
       "    <tr>\n",
       "      <th>3</th>\n",
       "      <td>79118</td>\n",
       "      <td>TX</td>\n",
       "      <td>Amarillo, TX</td>\n",
       "      <td>7246</td>\n",
       "      <td>181</td>\n",
       "      <td>17.446809</td>\n",
       "      <td>77.0</td>\n",
       "      <td>4.545455</td>\n",
       "      <td>9.10221</td>\n",
       "    </tr>\n",
       "    <tr>\n",
       "      <th>4</th>\n",
       "      <td>79015</td>\n",
       "      <td>TX</td>\n",
       "      <td>Amarillo, TX</td>\n",
       "      <td>7582</td>\n",
       "      <td>181</td>\n",
       "      <td>20.000000</td>\n",
       "      <td>72.0</td>\n",
       "      <td>2.727273</td>\n",
       "      <td>9.10221</td>\n",
       "    </tr>\n",
       "  </tbody>\n",
       "</table>\n",
       "</div>"
      ],
      "text/plain": [
       "   RegionName State    CBSA Title  SizeRankCity  SizeRankMetro  PctPriceCut  \\\n",
       "0       79109    TX  Amarillo, TX          2734            181    27.181208   \n",
       "1       79106    TX  Amarillo, TX          5504            181    26.845638   \n",
       "2       79107    TX  Amarillo, TX          6284            181    15.094340   \n",
       "3       79118    TX  Amarillo, TX          7246            181    17.446809   \n",
       "4       79015    TX  Amarillo, TX          7582            181    20.000000   \n",
       "\n",
       "   DaysOnMarket  BuyerSellerIndex  BuyerSellerIndexMetro  \n",
       "0          69.0          7.272727                9.10221  \n",
       "1          73.5          8.181818                9.10221  \n",
       "2         107.0          5.454545                9.10221  \n",
       "3          77.0          4.545455                9.10221  \n",
       "4          72.0          2.727273                9.10221  "
      ]
     },
     "execution_count": 7,
     "metadata": {},
     "output_type": "execute_result"
    }
   ],
   "source": [
    "# Buyer Seller Index\n",
    "buyer_seller = pd.read_csv(\"C:\\\\Users\\\\EISELJA\\\\Desktop\\\\Kaggle-master\\\\datasets\\BuyerSellerIndex_Zip.csv\")\n",
    "buyer_seller = buyer_seller[(buyer_seller['State'] == 'TX') | (buyer_seller['State'] == 'MO')]\n",
    "buyer_seller.drop(columns = 'RegionType', inplace = True)\n",
    "buyer_seller.head()"
   ]
  },
  {
   "cell_type": "code",
   "execution_count": 8,
   "metadata": {},
   "outputs": [
    {
     "data": {
      "text/html": [
       "<div>\n",
       "<style scoped>\n",
       "    .dataframe tbody tr th:only-of-type {\n",
       "        vertical-align: middle;\n",
       "    }\n",
       "\n",
       "    .dataframe tbody tr th {\n",
       "        vertical-align: top;\n",
       "    }\n",
       "\n",
       "    .dataframe thead th {\n",
       "        text-align: right;\n",
       "    }\n",
       "</style>\n",
       "<table border=\"1\" class=\"dataframe\">\n",
       "  <thead>\n",
       "    <tr style=\"text-align: right;\">\n",
       "      <th></th>\n",
       "      <th>RegionID</th>\n",
       "      <th>RegionName</th>\n",
       "      <th>StateName</th>\n",
       "      <th>SizeRank</th>\n",
       "      <th>MonthlyTurnover</th>\n",
       "    </tr>\n",
       "  </thead>\n",
       "  <tbody>\n",
       "    <tr>\n",
       "      <th>3</th>\n",
       "      <td>91982.0</td>\n",
       "      <td>77494</td>\n",
       "      <td>Texas</td>\n",
       "      <td>4</td>\n",
       "      <td>0.0068</td>\n",
       "    </tr>\n",
       "    <tr>\n",
       "      <th>4</th>\n",
       "      <td>93144.0</td>\n",
       "      <td>79936</td>\n",
       "      <td>Texas</td>\n",
       "      <td>5</td>\n",
       "      <td>0.0034</td>\n",
       "    </tr>\n",
       "    <tr>\n",
       "      <th>5</th>\n",
       "      <td>91940.0</td>\n",
       "      <td>77449</td>\n",
       "      <td>Texas</td>\n",
       "      <td>6</td>\n",
       "      <td>0.0058</td>\n",
       "    </tr>\n",
       "    <tr>\n",
       "      <th>6</th>\n",
       "      <td>91733.0</td>\n",
       "      <td>77084</td>\n",
       "      <td>Texas</td>\n",
       "      <td>7</td>\n",
       "      <td>0.0060</td>\n",
       "    </tr>\n",
       "    <tr>\n",
       "      <th>12</th>\n",
       "      <td>92593.0</td>\n",
       "      <td>78660</td>\n",
       "      <td>Texas</td>\n",
       "      <td>13</td>\n",
       "      <td>0.0056</td>\n",
       "    </tr>\n",
       "  </tbody>\n",
       "</table>\n",
       "</div>"
      ],
      "text/plain": [
       "    RegionID  RegionName StateName  SizeRank  MonthlyTurnover\n",
       "3    91982.0       77494     Texas         4           0.0068\n",
       "4    93144.0       79936     Texas         5           0.0034\n",
       "5    91940.0       77449     Texas         6           0.0058\n",
       "6    91733.0       77084     Texas         7           0.0060\n",
       "12   92593.0       78660     Texas        13           0.0056"
      ]
     },
     "execution_count": 8,
     "metadata": {},
     "output_type": "execute_result"
    }
   ],
   "source": [
    "# Monthly Turnover\n",
    "mon_turnover = pd.read_csv(\"C:\\\\Users\\\\EISELJA\\\\Desktop\\\\Kaggle-master\\\\datasets\\MonthlyTurnover_Zip.csv\")\n",
    "mon_turnover = mon_turnover[(mon_turnover['StateName'] == 'Texas') | (mon_turnover['StateName'] == 'Missouri')]\n",
    "mon_turnover = mon_turnover.loc[:,['RegionID','RegionName','StateName','SizeRank','2018-08']]\n",
    "mon_turnover.rename(columns = {'2018-08':'MonthlyTurnover'}, inplace = True)\n",
    "mon_turnover.head()"
   ]
  },
  {
   "cell_type": "code",
   "execution_count": 9,
   "metadata": {},
   "outputs": [
    {
     "data": {
      "text/html": [
       "<div>\n",
       "<style scoped>\n",
       "    .dataframe tbody tr th:only-of-type {\n",
       "        vertical-align: middle;\n",
       "    }\n",
       "\n",
       "    .dataframe tbody tr th {\n",
       "        vertical-align: top;\n",
       "    }\n",
       "\n",
       "    .dataframe thead th {\n",
       "        text-align: right;\n",
       "    }\n",
       "</style>\n",
       "<table border=\"1\" class=\"dataframe\">\n",
       "  <thead>\n",
       "    <tr style=\"text-align: right;\">\n",
       "      <th></th>\n",
       "      <th>RegionID</th>\n",
       "      <th>RegionName</th>\n",
       "      <th>City</th>\n",
       "      <th>State</th>\n",
       "      <th>Metro</th>\n",
       "      <th>CountyName</th>\n",
       "      <th>SizeRank</th>\n",
       "      <th>%HomesIncreasingValue</th>\n",
       "    </tr>\n",
       "  </thead>\n",
       "  <tbody>\n",
       "    <tr>\n",
       "      <th>27</th>\n",
       "      <td>90654</td>\n",
       "      <td>75052</td>\n",
       "      <td>Grand Prairie</td>\n",
       "      <td>TX</td>\n",
       "      <td>Dallas-Fort Worth-Arlington</td>\n",
       "      <td>Dallas</td>\n",
       "      <td>28</td>\n",
       "      <td>94.81</td>\n",
       "    </tr>\n",
       "    <tr>\n",
       "      <th>33</th>\n",
       "      <td>86026</td>\n",
       "      <td>63376</td>\n",
       "      <td>Saint Peters</td>\n",
       "      <td>MO</td>\n",
       "      <td>St. Louis</td>\n",
       "      <td>Saint Charles</td>\n",
       "      <td>34</td>\n",
       "      <td>94.66</td>\n",
       "    </tr>\n",
       "    <tr>\n",
       "      <th>45</th>\n",
       "      <td>90823</td>\n",
       "      <td>75287</td>\n",
       "      <td>Dallas</td>\n",
       "      <td>TX</td>\n",
       "      <td>Dallas-Fort Worth-Arlington</td>\n",
       "      <td>Dallas</td>\n",
       "      <td>46</td>\n",
       "      <td>59.22</td>\n",
       "    </tr>\n",
       "    <tr>\n",
       "      <th>51</th>\n",
       "      <td>90795</td>\n",
       "      <td>75243</td>\n",
       "      <td>Dallas</td>\n",
       "      <td>TX</td>\n",
       "      <td>Dallas-Fort Worth-Arlington</td>\n",
       "      <td>Dallas</td>\n",
       "      <td>52</td>\n",
       "      <td>62.55</td>\n",
       "    </tr>\n",
       "    <tr>\n",
       "      <th>67</th>\n",
       "      <td>90665</td>\n",
       "      <td>75067</td>\n",
       "      <td>Lewisville</td>\n",
       "      <td>TX</td>\n",
       "      <td>Dallas-Fort Worth-Arlington</td>\n",
       "      <td>Denton</td>\n",
       "      <td>68</td>\n",
       "      <td>93.03</td>\n",
       "    </tr>\n",
       "  </tbody>\n",
       "</table>\n",
       "</div>"
      ],
      "text/plain": [
       "    RegionID  RegionName           City State                        Metro  \\\n",
       "27     90654       75052  Grand Prairie    TX  Dallas-Fort Worth-Arlington   \n",
       "33     86026       63376   Saint Peters    MO                    St. Louis   \n",
       "45     90823       75287         Dallas    TX  Dallas-Fort Worth-Arlington   \n",
       "51     90795       75243         Dallas    TX  Dallas-Fort Worth-Arlington   \n",
       "67     90665       75067     Lewisville    TX  Dallas-Fort Worth-Arlington   \n",
       "\n",
       "       CountyName  SizeRank  %HomesIncreasingValue  \n",
       "27         Dallas        28                  94.81  \n",
       "33  Saint Charles        34                  94.66  \n",
       "45         Dallas        46                  59.22  \n",
       "51         Dallas        52                  62.55  \n",
       "67         Denton        68                  93.03  "
      ]
     },
     "execution_count": 9,
     "metadata": {},
     "output_type": "execute_result"
    }
   ],
   "source": [
    "# % Of homes with increasing values\n",
    "inc_val = pd.read_csv(\"C:\\\\Users\\\\EISELJA\\\\Desktop\\\\Kaggle-master\\\\datasets\\\\Zip_PctOfHomesIncreasingInValues_AllHomes.csv\")\n",
    "inc_val = inc_val[(inc_val['State'] == 'TX') | (inc_val['State'] == 'MO')]\n",
    "inc_val = inc_val.loc[:,['RegionID','RegionName','City','State','Metro','CountyName','SizeRank','2018-08']]\n",
    "inc_val.rename(columns = {'2018-08': '%HomesIncreasingValue'}, inplace = True)\n",
    "inc_val.head()"
   ]
  },
  {
   "cell_type": "code",
   "execution_count": 10,
   "metadata": {},
   "outputs": [
    {
     "data": {
      "text/html": [
       "<div>\n",
       "<style scoped>\n",
       "    .dataframe tbody tr th:only-of-type {\n",
       "        vertical-align: middle;\n",
       "    }\n",
       "\n",
       "    .dataframe tbody tr th {\n",
       "        vertical-align: top;\n",
       "    }\n",
       "\n",
       "    .dataframe thead th {\n",
       "        text-align: right;\n",
       "    }\n",
       "</style>\n",
       "<table border=\"1\" class=\"dataframe\">\n",
       "  <thead>\n",
       "    <tr style=\"text-align: right;\">\n",
       "      <th></th>\n",
       "      <th>RegionID</th>\n",
       "      <th>RegionName</th>\n",
       "      <th>City</th>\n",
       "      <th>County</th>\n",
       "      <th>State</th>\n",
       "      <th>Metro</th>\n",
       "      <th>SizeRank</th>\n",
       "      <th>%HomesPriceReduction</th>\n",
       "    </tr>\n",
       "  </thead>\n",
       "  <tbody>\n",
       "    <tr>\n",
       "      <th>3</th>\n",
       "      <td>91982</td>\n",
       "      <td>77494</td>\n",
       "      <td>Katy</td>\n",
       "      <td>Harris</td>\n",
       "      <td>TX</td>\n",
       "      <td>Houston-The Woodlands-Sugar Land</td>\n",
       "      <td>4</td>\n",
       "      <td>25.412778</td>\n",
       "    </tr>\n",
       "    <tr>\n",
       "      <th>5</th>\n",
       "      <td>93144</td>\n",
       "      <td>79936</td>\n",
       "      <td>El Paso</td>\n",
       "      <td>El Paso</td>\n",
       "      <td>TX</td>\n",
       "      <td>El Paso</td>\n",
       "      <td>6</td>\n",
       "      <td>17.543860</td>\n",
       "    </tr>\n",
       "    <tr>\n",
       "      <th>6</th>\n",
       "      <td>91940</td>\n",
       "      <td>77449</td>\n",
       "      <td>Katy</td>\n",
       "      <td>Harris</td>\n",
       "      <td>TX</td>\n",
       "      <td>Houston-The Woodlands-Sugar Land</td>\n",
       "      <td>7</td>\n",
       "      <td>21.550388</td>\n",
       "    </tr>\n",
       "    <tr>\n",
       "      <th>7</th>\n",
       "      <td>91733</td>\n",
       "      <td>77084</td>\n",
       "      <td>Houston</td>\n",
       "      <td>Harris</td>\n",
       "      <td>TX</td>\n",
       "      <td>Houston-The Woodlands-Sugar Land</td>\n",
       "      <td>8</td>\n",
       "      <td>19.156415</td>\n",
       "    </tr>\n",
       "    <tr>\n",
       "      <th>17</th>\n",
       "      <td>92593</td>\n",
       "      <td>78660</td>\n",
       "      <td>Pflugerville</td>\n",
       "      <td>Travis</td>\n",
       "      <td>TX</td>\n",
       "      <td>Austin-Round Rock</td>\n",
       "      <td>18</td>\n",
       "      <td>21.113990</td>\n",
       "    </tr>\n",
       "  </tbody>\n",
       "</table>\n",
       "</div>"
      ],
      "text/plain": [
       "    RegionID  RegionName          City   County State  \\\n",
       "3      91982       77494          Katy   Harris    TX   \n",
       "5      93144       79936       El Paso  El Paso    TX   \n",
       "6      91940       77449          Katy   Harris    TX   \n",
       "7      91733       77084       Houston   Harris    TX   \n",
       "17     92593       78660  Pflugerville   Travis    TX   \n",
       "\n",
       "                               Metro  SizeRank  %HomesPriceReduction  \n",
       "3   Houston-The Woodlands-Sugar Land         4             25.412778  \n",
       "5                            El Paso         6             17.543860  \n",
       "6   Houston-The Woodlands-Sugar Land         7             21.550388  \n",
       "7   Houston-The Woodlands-Sugar Land         8             19.156415  \n",
       "17                 Austin-Round Rock        18             21.113990  "
      ]
     },
     "execution_count": 10,
     "metadata": {},
     "output_type": "execute_result"
    }
   ],
   "source": [
    "# % of Homes with Price Reductions\n",
    "price_red = pd.read_csv(\"C:\\\\Users\\\\EISELJA\\\\Desktop\\\\Kaggle-master\\\\datasets\\\\Zip_PctOfListingsWithPriceReductions_AllHomes.csv\", encoding = \"ISO-8859-1\")\n",
    "price_red = price_red[(price_red['State'] == 'TX') | (price_red['State'] == 'MO')]\n",
    "price_red = price_red.loc[:,['RegionID','RegionName','City','County','State','Metro','SizeRank','2018-08']]\n",
    "price_red.rename(columns = {'2018-08': '%HomesPriceReduction'}, inplace = True)\n",
    "price_red.head()"
   ]
  },
  {
   "cell_type": "code",
   "execution_count": 11,
   "metadata": {},
   "outputs": [
    {
     "data": {
      "text/html": [
       "<div>\n",
       "<style scoped>\n",
       "    .dataframe tbody tr th:only-of-type {\n",
       "        vertical-align: middle;\n",
       "    }\n",
       "\n",
       "    .dataframe tbody tr th {\n",
       "        vertical-align: top;\n",
       "    }\n",
       "\n",
       "    .dataframe thead th {\n",
       "        text-align: right;\n",
       "    }\n",
       "</style>\n",
       "<table border=\"1\" class=\"dataframe\">\n",
       "  <thead>\n",
       "    <tr style=\"text-align: right;\">\n",
       "      <th></th>\n",
       "      <th>Area</th>\n",
       "      <th>Violent Crime rate (per 100,000), 2012</th>\n",
       "      <th># Violent Crime count, 2012</th>\n",
       "      <th>Robbery rate (per 100,000), 2012</th>\n",
       "      <th># Robbery count, 2012</th>\n",
       "      <th>Property Crime rate (per 100,000), 2012</th>\n",
       "      <th># Property Crime count, 2012</th>\n",
       "      <th>Murder and Nonnegligent Manslaughter rate (per 100,000), 2012</th>\n",
       "      <th># Murder and Nonnegligent Manslaughter count, 2012</th>\n",
       "      <th>Motor Theft rate (per 100,000), 2012</th>\n",
       "      <th># Motor Theft count, 2012</th>\n",
       "      <th>Larceny rate (per 100,000), 2012</th>\n",
       "      <th># Larceny count, 2012</th>\n",
       "      <th>Forcible Rape rate (per 100,000), 2012</th>\n",
       "      <th>Burglary rate (per 100,000), 2012</th>\n",
       "      <th># Forcible Rape count, 2012</th>\n",
       "      <th># Burglary count, 2012</th>\n",
       "      <th>Aggravated Assault rate (per 100,000), 2012</th>\n",
       "      <th># Aggravated Assault count, 2012</th>\n",
       "      <th>Murder Index, 2018</th>\n",
       "      <th>Forcible Rape Index, 2018</th>\n",
       "      <th>Forcible Robbery Index, 2018</th>\n",
       "      <th>Aggravated Assault Index, 2018</th>\n",
       "      <th>Burglary Index, 2018</th>\n",
       "      <th>Larceny Index, 2018</th>\n",
       "      <th>Motor Vehicle Theft Index, 2018</th>\n",
       "      <th>EASI Total Crime Index, 2018</th>\n",
       "    </tr>\n",
       "  </thead>\n",
       "  <tbody>\n",
       "    <tr>\n",
       "      <th>0</th>\n",
       "      <td>Missouri</td>\n",
       "      <td>4.50931</td>\n",
       "      <td>27155</td>\n",
       "      <td>96.0148</td>\n",
       "      <td>5782</td>\n",
       "      <td>3314.35</td>\n",
       "      <td>199590</td>\n",
       "      <td>6.45966</td>\n",
       "      <td>389</td>\n",
       "      <td>270.808</td>\n",
       "      <td>16308</td>\n",
       "      <td>2338.36</td>\n",
       "      <td>140816</td>\n",
       "      <td>25.0914</td>\n",
       "      <td>705.182</td>\n",
       "      <td>1511</td>\n",
       "      <td>42466</td>\n",
       "      <td>323.365</td>\n",
       "      <td>19473</td>\n",
       "      <td>106</td>\n",
       "      <td>113</td>\n",
       "      <td>107</td>\n",
       "      <td>103</td>\n",
       "      <td>110</td>\n",
       "      <td>106</td>\n",
       "      <td>104</td>\n",
       "      <td>104</td>\n",
       "    </tr>\n",
       "    <tr>\n",
       "      <th>1</th>\n",
       "      <td>Texas</td>\n",
       "      <td>4.08593</td>\n",
       "      <td>106476</td>\n",
       "      <td>116.588</td>\n",
       "      <td>30382</td>\n",
       "      <td>3361.8</td>\n",
       "      <td>876059</td>\n",
       "      <td>4.39</td>\n",
       "      <td>1144</td>\n",
       "      <td>249.417</td>\n",
       "      <td>64996</td>\n",
       "      <td>2326.44</td>\n",
       "      <td>606253</td>\n",
       "      <td>29.5903</td>\n",
       "      <td>785.941</td>\n",
       "      <td>7711</td>\n",
       "      <td>204810</td>\n",
       "      <td>258.024</td>\n",
       "      <td>67239</td>\n",
       "      <td>90</td>\n",
       "      <td>92</td>\n",
       "      <td>95</td>\n",
       "      <td>86</td>\n",
       "      <td>103</td>\n",
       "      <td>99</td>\n",
       "      <td>95</td>\n",
       "      <td>88</td>\n",
       "    </tr>\n",
       "    <tr>\n",
       "      <th>2</th>\n",
       "      <td>St. Louis, MO</td>\n",
       "      <td>17.7646</td>\n",
       "      <td>5661</td>\n",
       "      <td>557.949</td>\n",
       "      <td>1778</td>\n",
       "      <td>6902.19</td>\n",
       "      <td>21995</td>\n",
       "      <td>35.4602</td>\n",
       "      <td>113</td>\n",
       "      <td>1094.87</td>\n",
       "      <td>3489</td>\n",
       "      <td>4242.67</td>\n",
       "      <td>13520</td>\n",
       "      <td>62.4476</td>\n",
       "      <td>1564.64</td>\n",
       "      <td>199</td>\n",
       "      <td>4986</td>\n",
       "      <td>1120.61</td>\n",
       "      <td>3571</td>\n",
       "      <td>127</td>\n",
       "      <td>120</td>\n",
       "      <td>119</td>\n",
       "      <td>134</td>\n",
       "      <td>123</td>\n",
       "      <td>139</td>\n",
       "      <td>137</td>\n",
       "      <td>130</td>\n",
       "    </tr>\n",
       "    <tr>\n",
       "      <th>3</th>\n",
       "      <td>Houston, TX</td>\n",
       "      <td>9.92526</td>\n",
       "      <td>21610</td>\n",
       "      <td>431.044</td>\n",
       "      <td>9385</td>\n",
       "      <td>4945.54</td>\n",
       "      <td>107678</td>\n",
       "      <td>9.9666</td>\n",
       "      <td>217</td>\n",
       "      <td>600.292</td>\n",
       "      <td>13070</td>\n",
       "      <td>3122.16</td>\n",
       "      <td>67978</td>\n",
       "      <td>30.5428</td>\n",
       "      <td>1223.09</td>\n",
       "      <td>665</td>\n",
       "      <td>26630</td>\n",
       "      <td>520.973</td>\n",
       "      <td>11343</td>\n",
       "      <td>118</td>\n",
       "      <td>93</td>\n",
       "      <td>120</td>\n",
       "      <td>118</td>\n",
       "      <td>113</td>\n",
       "      <td>132</td>\n",
       "      <td>128</td>\n",
       "      <td>120</td>\n",
       "    </tr>\n",
       "    <tr>\n",
       "      <th>4</th>\n",
       "      <td>The Woodlands, TX</td>\n",
       "      <td>NaN</td>\n",
       "      <td>NaN</td>\n",
       "      <td>NaN</td>\n",
       "      <td>NaN</td>\n",
       "      <td>NaN</td>\n",
       "      <td>NaN</td>\n",
       "      <td>NaN</td>\n",
       "      <td>NaN</td>\n",
       "      <td>NaN</td>\n",
       "      <td>NaN</td>\n",
       "      <td>NaN</td>\n",
       "      <td>NaN</td>\n",
       "      <td>NaN</td>\n",
       "      <td>NaN</td>\n",
       "      <td>NaN</td>\n",
       "      <td>NaN</td>\n",
       "      <td>NaN</td>\n",
       "      <td>NaN</td>\n",
       "      <td>59</td>\n",
       "      <td>56</td>\n",
       "      <td>71</td>\n",
       "      <td>59</td>\n",
       "      <td>54</td>\n",
       "      <td>63</td>\n",
       "      <td>76</td>\n",
       "      <td>56</td>\n",
       "    </tr>\n",
       "  </tbody>\n",
       "</table>\n",
       "</div>"
      ],
      "text/plain": [
       "                Area Violent Crime rate (per 100,000), 2012  \\\n",
       "0           Missouri                                4.50931   \n",
       "1              Texas                                4.08593   \n",
       "2      St. Louis, MO                                17.7646   \n",
       "3        Houston, TX                                9.92526   \n",
       "4  The Woodlands, TX                                    NaN   \n",
       "\n",
       "  # Violent Crime count, 2012 Robbery rate (per 100,000), 2012  \\\n",
       "0                       27155                          96.0148   \n",
       "1                      106476                          116.588   \n",
       "2                        5661                          557.949   \n",
       "3                       21610                          431.044   \n",
       "4                         NaN                              NaN   \n",
       "\n",
       "  # Robbery count, 2012 Property Crime rate (per 100,000), 2012  \\\n",
       "0                  5782                                 3314.35   \n",
       "1                 30382                                  3361.8   \n",
       "2                  1778                                 6902.19   \n",
       "3                  9385                                 4945.54   \n",
       "4                   NaN                                     NaN   \n",
       "\n",
       "  # Property Crime count, 2012  \\\n",
       "0                       199590   \n",
       "1                       876059   \n",
       "2                        21995   \n",
       "3                       107678   \n",
       "4                          NaN   \n",
       "\n",
       "  Murder and Nonnegligent Manslaughter rate (per 100,000), 2012  \\\n",
       "0                                            6.45966              \n",
       "1                                               4.39              \n",
       "2                                            35.4602              \n",
       "3                                             9.9666              \n",
       "4                                                NaN              \n",
       "\n",
       "  # Murder and Nonnegligent Manslaughter count, 2012  \\\n",
       "0                                                389   \n",
       "1                                               1144   \n",
       "2                                                113   \n",
       "3                                                217   \n",
       "4                                                NaN   \n",
       "\n",
       "  Motor Theft rate (per 100,000), 2012 # Motor Theft count, 2012  \\\n",
       "0                              270.808                     16308   \n",
       "1                              249.417                     64996   \n",
       "2                              1094.87                      3489   \n",
       "3                              600.292                     13070   \n",
       "4                                  NaN                       NaN   \n",
       "\n",
       "  Larceny rate (per 100,000), 2012 # Larceny count, 2012  \\\n",
       "0                          2338.36                140816   \n",
       "1                          2326.44                606253   \n",
       "2                          4242.67                 13520   \n",
       "3                          3122.16                 67978   \n",
       "4                              NaN                   NaN   \n",
       "\n",
       "  Forcible Rape rate (per 100,000), 2012 Burglary rate (per 100,000), 2012  \\\n",
       "0                                25.0914                           705.182   \n",
       "1                                29.5903                           785.941   \n",
       "2                                62.4476                           1564.64   \n",
       "3                                30.5428                           1223.09   \n",
       "4                                    NaN                               NaN   \n",
       "\n",
       "  # Forcible Rape count, 2012 # Burglary count, 2012  \\\n",
       "0                        1511                  42466   \n",
       "1                        7711                 204810   \n",
       "2                         199                   4986   \n",
       "3                         665                  26630   \n",
       "4                         NaN                    NaN   \n",
       "\n",
       "  Aggravated Assault rate (per 100,000), 2012  \\\n",
       "0                                     323.365   \n",
       "1                                     258.024   \n",
       "2                                     1120.61   \n",
       "3                                     520.973   \n",
       "4                                         NaN   \n",
       "\n",
       "  # Aggravated Assault count, 2012 Murder Index, 2018  \\\n",
       "0                            19473                106   \n",
       "1                            67239                 90   \n",
       "2                             3571                127   \n",
       "3                            11343                118   \n",
       "4                              NaN                 59   \n",
       "\n",
       "  Forcible Rape Index, 2018 Forcible Robbery Index, 2018  \\\n",
       "0                       113                          107   \n",
       "1                        92                           95   \n",
       "2                       120                          119   \n",
       "3                        93                          120   \n",
       "4                        56                           71   \n",
       "\n",
       "  Aggravated Assault Index, 2018 Burglary Index, 2018 Larceny Index, 2018  \\\n",
       "0                            103                  110                 106   \n",
       "1                             86                  103                  99   \n",
       "2                            134                  123                 139   \n",
       "3                            118                  113                 132   \n",
       "4                             59                   54                  63   \n",
       "\n",
       "  Motor Vehicle Theft Index, 2018 EASI Total Crime Index, 2018  \n",
       "0                             104                          104  \n",
       "1                              95                           88  \n",
       "2                             137                          130  \n",
       "3                             128                          120  \n",
       "4                              76                           56  "
      ]
     },
     "execution_count": 11,
     "metadata": {},
     "output_type": "execute_result"
    }
   ],
   "source": [
    "# Crime Rate\n",
    "crime_rate = pd.read_excel(\"C:\\\\Users\\\\EISELJA\\\\Desktop\\\\Kaggle-master\\\\datasets\\\\Crime_Rate.xlsx\", index_col=False)\n",
    "crime_rate = crime_rate.transpose()\n",
    "header = crime_rate.iloc[0]\n",
    "crime_rate = crime_rate[1:]\n",
    "crime_rate.rename(columns = header, inplace = True)\n",
    "crime_rate = crime_rate[1:]\n",
    "crime_rate.reset_index(inplace = True)\n",
    "crime_rate.rename(columns = {'index':'Area'}, inplace = True)\n",
    "crime_rate.head()"
   ]
  },
  {
   "cell_type": "code",
   "execution_count": 12,
   "metadata": {},
   "outputs": [
    {
     "data": {
      "text/html": [
       "<div>\n",
       "<style scoped>\n",
       "    .dataframe tbody tr th:only-of-type {\n",
       "        vertical-align: middle;\n",
       "    }\n",
       "\n",
       "    .dataframe tbody tr th {\n",
       "        vertical-align: top;\n",
       "    }\n",
       "\n",
       "    .dataframe thead th {\n",
       "        text-align: right;\n",
       "    }\n",
       "</style>\n",
       "<table border=\"1\" class=\"dataframe\">\n",
       "  <thead>\n",
       "    <tr style=\"text-align: right;\">\n",
       "      <th></th>\n",
       "      <th>Area</th>\n",
       "      <th>% Employment, Travel Time 90+ Min, 2018</th>\n",
       "      <th>% Employment, Travel Time 60-89 Min, 2018</th>\n",
       "      <th>% Employment, Travel Time 30-59 Min, 2018</th>\n",
       "      <th>% Employment, Travel Time 15-29 Min, 2018</th>\n",
       "      <th>% Employment, Travel Time Less than 15 Min, 2018</th>\n",
       "      <th>% Employment, Travel to work (Empl 16+), 2018</th>\n",
       "      <th>% Employment, Car, Truck, Van to Work, 2018</th>\n",
       "      <th>% Employment, Public Transportation to Work, 2018</th>\n",
       "      <th>% Employment, Other Transportation to Work, 2018</th>\n",
       "      <th>% Employment, Work at Home, 2018</th>\n",
       "      <th>% Employment, Walked to Work, 2018</th>\n",
       "      <th>% Employment, Motorcycle to Work, 2018</th>\n",
       "      <th>% Employment, Bicycle to Work, 2018</th>\n",
       "      <th>% Employment, Bus or Trolley Bus to Work, 2018</th>\n",
       "      <th>% Employment, Car, Truck, Van to Work Alone, 2018</th>\n",
       "      <th>% Employment, Car, Truck, Van to Work Carpool, 2018</th>\n",
       "    </tr>\n",
       "  </thead>\n",
       "  <tbody>\n",
       "    <tr>\n",
       "      <th>0</th>\n",
       "      <td>Missouri</td>\n",
       "      <td>0.017561</td>\n",
       "      <td>0.033279</td>\n",
       "      <td>0.252789</td>\n",
       "      <td>0.367594</td>\n",
       "      <td>0.286265</td>\n",
       "      <td>0.957488</td>\n",
       "      <td>0.908146</td>\n",
       "      <td>0.015144</td>\n",
       "      <td>0.008158</td>\n",
       "      <td>0.042512</td>\n",
       "      <td>0.020866</td>\n",
       "      <td>0.001936</td>\n",
       "      <td>0.002469</td>\n",
       "      <td>0.01342</td>\n",
       "      <td>0.809083</td>\n",
       "      <td>0.099063</td>\n",
       "    </tr>\n",
       "    <tr>\n",
       "      <th>1</th>\n",
       "      <td>Texas</td>\n",
       "      <td>0.020663</td>\n",
       "      <td>0.05026</td>\n",
       "      <td>0.286028</td>\n",
       "      <td>0.349519</td>\n",
       "      <td>0.25173</td>\n",
       "      <td>0.9582</td>\n",
       "      <td>0.90834</td>\n",
       "      <td>0.015947</td>\n",
       "      <td>0.012331</td>\n",
       "      <td>0.0418</td>\n",
       "      <td>0.015804</td>\n",
       "      <td>0.002507</td>\n",
       "      <td>0.002746</td>\n",
       "      <td>0.014181</td>\n",
       "      <td>0.799403</td>\n",
       "      <td>0.108938</td>\n",
       "    </tr>\n",
       "    <tr>\n",
       "      <th>2</th>\n",
       "      <td>St. Louis, MO</td>\n",
       "      <td>0.026544</td>\n",
       "      <td>0.032528</td>\n",
       "      <td>0.242979</td>\n",
       "      <td>0.437758</td>\n",
       "      <td>0.228167</td>\n",
       "      <td>0.967976</td>\n",
       "      <td>0.798151</td>\n",
       "      <td>0.103113</td>\n",
       "      <td>0.009974</td>\n",
       "      <td>0.032024</td>\n",
       "      <td>0.045099</td>\n",
       "      <td>0.00143</td>\n",
       "      <td>0.008989</td>\n",
       "      <td>0.092862</td>\n",
       "      <td>0.704727</td>\n",
       "      <td>0.093424</td>\n",
       "    </tr>\n",
       "    <tr>\n",
       "      <th>3</th>\n",
       "      <td>Houston, TX</td>\n",
       "      <td>0.018311</td>\n",
       "      <td>0.051255</td>\n",
       "      <td>0.327618</td>\n",
       "      <td>0.372165</td>\n",
       "      <td>0.196762</td>\n",
       "      <td>0.96611</td>\n",
       "      <td>0.881014</td>\n",
       "      <td>0.041338</td>\n",
       "      <td>0.016431</td>\n",
       "      <td>0.03389</td>\n",
       "      <td>0.020748</td>\n",
       "      <td>0.001397</td>\n",
       "      <td>0.004363</td>\n",
       "      <td>0.039439</td>\n",
       "      <td>0.764509</td>\n",
       "      <td>0.116506</td>\n",
       "    </tr>\n",
       "    <tr>\n",
       "      <th>4</th>\n",
       "      <td>The Woodlands, TX</td>\n",
       "      <td>0.035443</td>\n",
       "      <td>0.106257</td>\n",
       "      <td>0.284286</td>\n",
       "      <td>0.27113</td>\n",
       "      <td>0.226757</td>\n",
       "      <td>0.923873</td>\n",
       "      <td>0.865256</td>\n",
       "      <td>0.036218</td>\n",
       "      <td>0.010664</td>\n",
       "      <td>0.076127</td>\n",
       "      <td>0.007749</td>\n",
       "      <td>0.002399</td>\n",
       "      <td>0.001052</td>\n",
       "      <td>0.036218</td>\n",
       "      <td>0.805402</td>\n",
       "      <td>0.059854</td>\n",
       "    </tr>\n",
       "  </tbody>\n",
       "</table>\n",
       "</div>"
      ],
      "text/plain": [
       "                Area % Employment, Travel Time 90+ Min, 2018  \\\n",
       "0           Missouri                                0.017561   \n",
       "1              Texas                                0.020663   \n",
       "2      St. Louis, MO                                0.026544   \n",
       "3        Houston, TX                                0.018311   \n",
       "4  The Woodlands, TX                                0.035443   \n",
       "\n",
       "  % Employment, Travel Time 60-89 Min, 2018  \\\n",
       "0                                  0.033279   \n",
       "1                                   0.05026   \n",
       "2                                  0.032528   \n",
       "3                                  0.051255   \n",
       "4                                  0.106257   \n",
       "\n",
       "  % Employment, Travel Time 30-59 Min, 2018  \\\n",
       "0                                  0.252789   \n",
       "1                                  0.286028   \n",
       "2                                  0.242979   \n",
       "3                                  0.327618   \n",
       "4                                  0.284286   \n",
       "\n",
       "  % Employment, Travel Time 15-29 Min, 2018  \\\n",
       "0                                  0.367594   \n",
       "1                                  0.349519   \n",
       "2                                  0.437758   \n",
       "3                                  0.372165   \n",
       "4                                   0.27113   \n",
       "\n",
       "  % Employment, Travel Time Less than 15 Min, 2018  \\\n",
       "0                                         0.286265   \n",
       "1                                          0.25173   \n",
       "2                                         0.228167   \n",
       "3                                         0.196762   \n",
       "4                                         0.226757   \n",
       "\n",
       "  % Employment, Travel to work (Empl 16+), 2018  \\\n",
       "0                                      0.957488   \n",
       "1                                        0.9582   \n",
       "2                                      0.967976   \n",
       "3                                       0.96611   \n",
       "4                                      0.923873   \n",
       "\n",
       "  % Employment, Car, Truck, Van to Work, 2018  \\\n",
       "0                                    0.908146   \n",
       "1                                     0.90834   \n",
       "2                                    0.798151   \n",
       "3                                    0.881014   \n",
       "4                                    0.865256   \n",
       "\n",
       "  % Employment, Public Transportation to Work, 2018  \\\n",
       "0                                          0.015144   \n",
       "1                                          0.015947   \n",
       "2                                          0.103113   \n",
       "3                                          0.041338   \n",
       "4                                          0.036218   \n",
       "\n",
       "  % Employment, Other Transportation to Work, 2018  \\\n",
       "0                                         0.008158   \n",
       "1                                         0.012331   \n",
       "2                                         0.009974   \n",
       "3                                         0.016431   \n",
       "4                                         0.010664   \n",
       "\n",
       "  % Employment, Work at Home, 2018 % Employment, Walked to Work, 2018  \\\n",
       "0                         0.042512                           0.020866   \n",
       "1                           0.0418                           0.015804   \n",
       "2                         0.032024                           0.045099   \n",
       "3                          0.03389                           0.020748   \n",
       "4                         0.076127                           0.007749   \n",
       "\n",
       "  % Employment, Motorcycle to Work, 2018 % Employment, Bicycle to Work, 2018  \\\n",
       "0                               0.001936                            0.002469   \n",
       "1                               0.002507                            0.002746   \n",
       "2                                0.00143                            0.008989   \n",
       "3                               0.001397                            0.004363   \n",
       "4                               0.002399                            0.001052   \n",
       "\n",
       "  % Employment, Bus or Trolley Bus to Work, 2018  \\\n",
       "0                                        0.01342   \n",
       "1                                       0.014181   \n",
       "2                                       0.092862   \n",
       "3                                       0.039439   \n",
       "4                                       0.036218   \n",
       "\n",
       "  % Employment, Car, Truck, Van to Work Alone, 2018  \\\n",
       "0                                          0.809083   \n",
       "1                                          0.799403   \n",
       "2                                          0.704727   \n",
       "3                                          0.764509   \n",
       "4                                          0.805402   \n",
       "\n",
       "  % Employment, Car, Truck, Van to Work Carpool, 2018  \n",
       "0                                           0.099063   \n",
       "1                                           0.108938   \n",
       "2                                           0.093424   \n",
       "3                                           0.116506   \n",
       "4                                           0.059854   "
      ]
     },
     "execution_count": 12,
     "metadata": {},
     "output_type": "execute_result"
    }
   ],
   "source": [
    "# Average Commute Time\n",
    "commute = pd.read_excel(\"C:\\\\Users\\\\EISELJA\\\\Desktop\\\\Kaggle-master\\\\datasets\\\\Commute.xlsx\")\n",
    "commute = commute.transpose()\n",
    "header2 = commute.iloc[0]\n",
    "commute = commute[1:]\n",
    "commute.rename(columns = header2, inplace = True)\n",
    "commute = commute[1:]\n",
    "commute.reset_index(inplace = True)\n",
    "commute.rename(columns = {'index':'Area'}, inplace = True)\n",
    "commute.head()"
   ]
  },
  {
   "cell_type": "code",
   "execution_count": 13,
   "metadata": {},
   "outputs": [
    {
     "data": {
      "text/html": [
       "<div>\n",
       "<style scoped>\n",
       "    .dataframe tbody tr th:only-of-type {\n",
       "        vertical-align: middle;\n",
       "    }\n",
       "\n",
       "    .dataframe tbody tr th {\n",
       "        vertical-align: top;\n",
       "    }\n",
       "\n",
       "    .dataframe thead th {\n",
       "        text-align: right;\n",
       "    }\n",
       "</style>\n",
       "<table border=\"1\" class=\"dataframe\">\n",
       "  <thead>\n",
       "    <tr style=\"text-align: right;\">\n",
       "      <th></th>\n",
       "      <th>Area</th>\n",
       "      <th>EASI Weather Index, 2018</th>\n",
       "      <th>EASI Quality of Life Index, 2018</th>\n",
       "    </tr>\n",
       "  </thead>\n",
       "  <tbody>\n",
       "    <tr>\n",
       "      <th>0</th>\n",
       "      <td>Missouri</td>\n",
       "      <td>87</td>\n",
       "      <td>101</td>\n",
       "    </tr>\n",
       "    <tr>\n",
       "      <th>1</th>\n",
       "      <td>Texas</td>\n",
       "      <td>175</td>\n",
       "      <td>133</td>\n",
       "    </tr>\n",
       "    <tr>\n",
       "      <th>2</th>\n",
       "      <td>St. Louis, MO</td>\n",
       "      <td>78</td>\n",
       "      <td>112</td>\n",
       "    </tr>\n",
       "    <tr>\n",
       "      <th>3</th>\n",
       "      <td>Houston, TX</td>\n",
       "      <td>149</td>\n",
       "      <td>152</td>\n",
       "    </tr>\n",
       "    <tr>\n",
       "      <th>4</th>\n",
       "      <td>The Woodlands, TX</td>\n",
       "      <td>149</td>\n",
       "      <td>151</td>\n",
       "    </tr>\n",
       "  </tbody>\n",
       "</table>\n",
       "</div>"
      ],
      "text/plain": [
       "                Area EASI Weather Index, 2018 EASI Quality of Life Index, 2018\n",
       "0           Missouri                       87                              101\n",
       "1              Texas                      175                              133\n",
       "2      St. Louis, MO                       78                              112\n",
       "3        Houston, TX                      149                              152\n",
       "4  The Woodlands, TX                      149                              151"
      ]
     },
     "execution_count": 13,
     "metadata": {},
     "output_type": "execute_result"
    }
   ],
   "source": [
    "# EASI\n",
    "easi = pd.read_excel(\"C:\\\\Users\\\\EISELJA\\\\Desktop\\\\Kaggle-master\\\\datasets\\EASI.xlsx\")\n",
    "easi = easi.transpose()\n",
    "header3 = easi.iloc[0]\n",
    "easi = easi[1:]\n",
    "easi.rename(columns = header3, inplace = True)\n",
    "easi = easi[1:]\n",
    "easi.reset_index(inplace = True)\n",
    "easi.rename(columns = {'index':'Area'}, inplace = True)\n",
    "easi.head()"
   ]
  },
  {
   "cell_type": "code",
   "execution_count": 14,
   "metadata": {},
   "outputs": [
    {
     "data": {
      "text/html": [
       "<div>\n",
       "<style scoped>\n",
       "    .dataframe tbody tr th:only-of-type {\n",
       "        vertical-align: middle;\n",
       "    }\n",
       "\n",
       "    .dataframe tbody tr th {\n",
       "        vertical-align: top;\n",
       "    }\n",
       "\n",
       "    .dataframe thead th {\n",
       "        text-align: right;\n",
       "    }\n",
       "</style>\n",
       "<table border=\"1\" class=\"dataframe\">\n",
       "  <thead>\n",
       "    <tr style=\"text-align: right;\">\n",
       "      <th></th>\n",
       "      <th>Area</th>\n",
       "      <th>Property taxes (Household Average), 2018</th>\n",
       "      <th>Property taxes ($000), 2018</th>\n",
       "    </tr>\n",
       "  </thead>\n",
       "  <tbody>\n",
       "    <tr>\n",
       "      <th>0</th>\n",
       "      <td>Missouri</td>\n",
       "      <td>21.5716</td>\n",
       "      <td>5.27926e+06</td>\n",
       "    </tr>\n",
       "    <tr>\n",
       "      <th>1</th>\n",
       "      <td>Texas</td>\n",
       "      <td>21.989</td>\n",
       "      <td>2.22137e+07</td>\n",
       "    </tr>\n",
       "    <tr>\n",
       "      <th>2</th>\n",
       "      <td>St. Louis, MO</td>\n",
       "      <td>14.2521</td>\n",
       "      <td>197717</td>\n",
       "    </tr>\n",
       "    <tr>\n",
       "      <th>3</th>\n",
       "      <td>Houston, TX</td>\n",
       "      <td>18.2776</td>\n",
       "      <td>1.61616e+06</td>\n",
       "    </tr>\n",
       "    <tr>\n",
       "      <th>4</th>\n",
       "      <td>The Woodlands, TX</td>\n",
       "      <td>30.7892</td>\n",
       "      <td>137523</td>\n",
       "    </tr>\n",
       "  </tbody>\n",
       "</table>\n",
       "</div>"
      ],
      "text/plain": [
       "                Area Property taxes (Household Average), 2018  \\\n",
       "0           Missouri                                  21.5716   \n",
       "1              Texas                                   21.989   \n",
       "2      St. Louis, MO                                  14.2521   \n",
       "3        Houston, TX                                  18.2776   \n",
       "4  The Woodlands, TX                                  30.7892   \n",
       "\n",
       "  Property taxes ($000), 2018  \n",
       "0                 5.27926e+06  \n",
       "1                 2.22137e+07  \n",
       "2                      197717  \n",
       "3                 1.61616e+06  \n",
       "4                      137523  "
      ]
     },
     "execution_count": 14,
     "metadata": {},
     "output_type": "execute_result"
    }
   ],
   "source": [
    "# Property Taxes\n",
    "tax = pd.read_excel(\"C:\\\\Users\\\\EISELJA\\\\Desktop\\\\Kaggle-master\\\\datasets\\\\PropertyTaxes.xlsx\")\n",
    "tax = tax.transpose()\n",
    "header4 = tax.iloc[0]\n",
    "tax = tax[1:]\n",
    "tax.rename(columns = header4, inplace = True)\n",
    "tax = tax[1:]\n",
    "tax.reset_index(inplace = True)\n",
    "tax.rename(columns = {'index': 'Area'}, inplace = True)\n",
    "tax.head()"
   ]
  },
  {
   "cell_type": "markdown",
   "metadata": {},
   "source": [
    "### Data Sources and Variable Descriptions\n",
    "- Zillow\n",
    "    - [X] Price\n",
    "    - [X] Median Price per sq ft\n",
    "    - [X] Days on Market\n",
    "    - [X] % of Listings with Price Reductions\n",
    "    - [X] % of Homes Increasing in Value\n",
    "    - [X] Inventory Measure\n",
    "    - [X] Market Health Index\n",
    "    - [X] Buyer/Seller Index\n",
    "    - [X] Monthly Turnover\n",
    "- US Census Bureau\n",
    "    - [X] Crime Rate\n",
    "    - [X] Average Commute Time\n",
    "    - School District Rankings\n",
    "    - [X] EASI Weather Index\n",
    "    - [X] EASI Quality of Life Index\n",
    "    - [X] Property Tax Rate %"
   ]
  },
  {
   "cell_type": "markdown",
   "metadata": {},
   "source": [
    "### 2.4 Statistical Summaries and visualizations"
   ]
  },
  {
   "cell_type": "code",
   "execution_count": 15,
   "metadata": {},
   "outputs": [
    {
     "data": {
      "text/plain": [
       "Text(0.5,20.8,'USD')"
      ]
     },
     "execution_count": 15,
     "metadata": {},
     "output_type": "execute_result"
    },
    {
     "data": {
      "image/png": "[encoded data removed]",
      "text/plain": [
       "<Figure size 937.75x216 with 1 Axes>"
      ]
     },
     "metadata": {
      "needs_background": "light"
     },
     "output_type": "display_data"
    }
   ],
   "source": [
    "# Distribution of price, hue between Texas and Missouri\n",
    "plot_distribution(df = price, var = 'MedianPrice', target = 'StateName')\n",
    "plt.title(\"Price Distribution by State 2018-08\")\n",
    "plt.xlabel(\"USD\")"
   ]
  },
  {
   "cell_type": "code",
   "execution_count": 17,
   "metadata": {},
   "outputs": [
    {
     "data": {
      "text/plain": [
       "Text(0,0.5,'Median Sale Price')"
      ]
     },
     "execution_count": 17,
     "metadata": {},
     "output_type": "execute_result"
    },
    {
     "data": {
      "image/png": "[encoded data removed]",
      "text/plain": [
       "<Figure size 432x288 with 1 Axes>"
      ]
     },
     "metadata": {
      "needs_background": "light"
     },
     "output_type": "display_data"
    }
   ],
   "source": [
    "# Highest regions to live in Texas\n",
    "tx_price_sort = price[price['StateName'] == 'Texas']\n",
    "tx_price_sort.sort_values(by = ['MedianPrice'], ascending = False, inplace = True)\n",
    "tx10 = tx_price_sort.iloc[:10]\n",
    "plt.title(\"2018-08 Highest Regions in Texas by median Sale Price\")\n",
    "sns.barplot(x = 'RegionName', y = 'MedianPrice', data = tx10, palette=\"Greens_d\")\n",
    "plt.xlabel(\"Zip Code\")\n",
    "plt.ylabel(\"Median Sale Price\")"
   ]
  },
  {
   "cell_type": "code",
   "execution_count": 16,
   "metadata": {},
   "outputs": [
    {
     "data": {
      "text/plain": [
       "Text(0,0.5,'Median Sale Price')"
      ]
     },
     "execution_count": 16,
     "metadata": {},
     "output_type": "execute_result"
    },
    {
     "data": {
      "image/png": "[encoded data removed]",
      "text/plain": [
       "<Figure size 432x288 with 1 Axes>"
      ]
     },
     "metadata": {
      "needs_background": "light"
     },
     "output_type": "display_data"
    }
   ],
   "source": [
    "# Highest regions to live in Missouri\n",
    "mo_price_sort = price[price['StateName'] == 'Missouri']\n",
    "mo_price_sort.sort_values(by = ['MedianPrice'], ascending = False, inplace = True)\n",
    "mo10 = mo_price_sort.iloc[:10]\n",
    "plt.title(\"2018-08 Highest Regions in Missouri by median Sale Price\")\n",
    "sns.barplot(x = 'RegionName', y = 'MedianPrice', data = mo10, palette=\"Greens_d\")\n",
    "plt.xlabel(\"Zip Code\")\n",
    "plt.ylabel(\"Median Sale Price\")"
   ]
  },
  {
   "cell_type": "code",
   "execution_count": 18,
   "metadata": {},
   "outputs": [
    {
     "data": {
      "text/plain": [
       "Text(0.5,20.8469,'USD')"
      ]
     },
     "execution_count": 18,
     "metadata": {},
     "output_type": "execute_result"
    },
    {
     "data": {
      "image/png": "[encoded data removed]",
      "text/plain": [
       "<Figure size 916.125x216 with 1 Axes>"
      ]
     },
     "metadata": {
      "needs_background": "light"
     },
     "output_type": "display_data"
    }
   ],
   "source": [
    "# Distribution of median square foot price, hue between Texas and Missouri\n",
    "plot_distribution(df = med_sqft , var = 'MedianSqftPrice', target = 'State')\n",
    "plt.title(\"Median Price Per Square Foot by State 2018-08\")\n",
    "plt.xlabel(\"USD\")"
   ]
  },
  {
   "cell_type": "code",
   "execution_count": null,
   "metadata": {},
   "outputs": [],
   "source": []
  },
  {
   "cell_type": "code",
   "execution_count": 19,
   "metadata": {},
   "outputs": [
    {
     "data": {
      "text/plain": [
       "Text(0.5,20.8469,'Days')"
      ]
     },
     "execution_count": 19,
     "metadata": {},
     "output_type": "execute_result"
    },
    {
     "data": {
      "image/png": "[encoded data removed]",
      "text/plain": [
       "<Figure size 916.125x216 with 1 Axes>"
      ]
     },
     "metadata": {
      "needs_background": "light"
     },
     "output_type": "display_data"
    }
   ],
   "source": [
    "# Distribution of days on Market, hue between Texas and Missouri\n",
    "plot_distribution(df = mkt_health_index , var = 'DaysOnMarket', target = 'State')\n",
    "plt.title(\"Days on the Market by State\")\n",
    "plt.xlabel(\"Days\")"
   ]
  },
  {
   "cell_type": "code",
   "execution_count": 21,
   "metadata": {},
   "outputs": [
    {
     "data": {
      "text/plain": [
       "Text(0,0.5,'Days on Market')"
      ]
     },
     "execution_count": 21,
     "metadata": {},
     "output_type": "execute_result"
    },
    {
     "data": {
      "image/png": "[encoded data removed]",
      "text/plain": [
       "<Figure size 432x288 with 1 Axes>"
      ]
     },
     "metadata": {
      "needs_background": "light"
     },
     "output_type": "display_data"
    }
   ],
   "source": [
    "# Hottest markets in Missouri\n",
    "mo_mkt = mkt_health_index[mkt_health_index['State'] == 'MO']\n",
    "mo_mkt.sort_values(by = ['DaysOnMarket'], ascending = True, inplace = True)\n",
    "mk10 = mo_mkt.iloc[:10]\n",
    "plt.title(\"Fastest Moving Markets in Missouri\")\n",
    "sns.barplot(x = 'RegionName', y = 'DaysOnMarket', data = mk10, palette=\"Greens_d\")\n",
    "plt.xlabel(\"Zip Code\")\n",
    "plt.ylabel(\"Days on Market\")"
   ]
  },
  {
   "cell_type": "code",
   "execution_count": 20,
   "metadata": {},
   "outputs": [
    {
     "data": {
      "text/plain": [
       "Text(0,0.5,'Days on Market')"
      ]
     },
     "execution_count": 20,
     "metadata": {},
     "output_type": "execute_result"
    },
    {
     "data": {
      "image/png": "[encoded data removed]",
      "text/plain": [
       "<Figure size 432x288 with 1 Axes>"
      ]
     },
     "metadata": {
      "needs_background": "light"
     },
     "output_type": "display_data"
    }
   ],
   "source": [
    "# Hottest markets in Texas\n",
    "tx_mkt = mkt_health_index[mkt_health_index['State'] == 'TX']\n",
    "tx_mkt.sort_values(by = ['DaysOnMarket'], ascending = True, inplace = True)\n",
    "tx10 = tx_mkt.iloc[:10]\n",
    "plt.title(\"Fastest Moving Markets in Texas\")\n",
    "sns.barplot(x = 'RegionName', y = 'DaysOnMarket', data = tx10, palette=\"Greens_d\")\n",
    "plt.xlabel(\"Zip Code\")\n",
    "plt.ylabel(\"Days on Market\")"
   ]
  },
  {
   "cell_type": "code",
   "execution_count": 22,
   "metadata": {
    "scrolled": true
   },
   "outputs": [
    {
     "data": {
      "text/plain": [
       "Text(0.5,20.8,'Price Reductions')"
      ]
     },
     "execution_count": 22,
     "metadata": {},
     "output_type": "execute_result"
    },
    {
     "data": {
      "image/png": "[encoded data removed]",
      "text/plain": [
       "<Figure size 916.125x216 with 1 Axes>"
      ]
     },
     "metadata": {
      "needs_background": "light"
     },
     "output_type": "display_data"
    }
   ],
   "source": [
    "# % of listings with price reductions, hue between Texas and Missouri\n",
    "plot_distribution(df = price_red , var = '%HomesPriceReduction', target = 'State')\n",
    "plt.title(\"Price reductions by state 2018-08\")\n",
    "plt.xlabel(\"Price Reductions\")"
   ]
  },
  {
   "cell_type": "code",
   "execution_count": 23,
   "metadata": {},
   "outputs": [
    {
     "data": {
      "text/plain": [
       "Text(0.5,20.8,'Price Increases')"
      ]
     },
     "execution_count": 23,
     "metadata": {},
     "output_type": "execute_result"
    },
    {
     "data": {
      "image/png": "[encoded data removed]",
      "text/plain": [
       "<Figure size 916.125x216 with 1 Axes>"
      ]
     },
     "metadata": {
      "needs_background": "light"
     },
     "output_type": "display_data"
    }
   ],
   "source": [
    "# % of homes with increasing values, hue between Texas and Missouri\n",
    "plot_distribution(df = inc_val , var = '%HomesIncreasingValue', target = 'State')\n",
    "plt.title(\"% Of homes with increasing values 2018-08\")\n",
    "plt.xlabel(\"Price Increases\")"
   ]
  },
  {
   "cell_type": "code",
   "execution_count": 24,
   "metadata": {},
   "outputs": [
    {
     "data": {
      "text/plain": [
       "Text(0.5,20.8469,'Inventory')"
      ]
     },
     "execution_count": 24,
     "metadata": {},
     "output_type": "execute_result"
    },
    {
     "data": {
      "image/png": "[encoded data removed]",
      "text/plain": [
       "<Figure size 951.375x216 with 1 Axes>"
      ]
     },
     "metadata": {
      "needs_background": "light"
     },
     "output_type": "display_data"
    }
   ],
   "source": [
    "# Inventory measure, hue between Texas and Missouri\n",
    "plot_distribution(df = inv_measure , var = 'Inventory', target = 'StateFullName')\n",
    "plt.title(\"Inventory Measure 2018-08\")\n",
    "plt.xlabel(\"Inventory\")"
   ]
  },
  {
   "cell_type": "code",
   "execution_count": 25,
   "metadata": {},
   "outputs": [
    {
     "data": {
      "text/plain": [
       "Text(0.5,20.8,'Market Health index')"
      ]
     },
     "execution_count": 25,
     "metadata": {},
     "output_type": "execute_result"
    },
    {
     "data": {
      "image/png": "[encoded data removed]",
      "text/plain": [
       "<Figure size 916.125x216 with 1 Axes>"
      ]
     },
     "metadata": {
      "needs_background": "light"
     },
     "output_type": "display_data"
    }
   ],
   "source": [
    "# Market Health index, hue between Texas and Missouri\n",
    "plot_distribution(df = mkt_health_index , var = 'MarketHealthIndex', target = 'State')\n",
    "plt.title(\"Market Health Index 2018-08\")\n",
    "plt.xlabel(\"Market Health index\")"
   ]
  },
  {
   "cell_type": "code",
   "execution_count": 26,
   "metadata": {},
   "outputs": [
    {
     "data": {
      "text/plain": [
       "Text(0.5,20.8,'Buyer/Seller index')"
      ]
     },
     "execution_count": 26,
     "metadata": {},
     "output_type": "execute_result"
    },
    {
     "data": {
      "image/png": "[encoded data removed]",
      "text/plain": [
       "<Figure size 916.125x216 with 1 Axes>"
      ]
     },
     "metadata": {
      "needs_background": "light"
     },
     "output_type": "display_data"
    }
   ],
   "source": [
    "# Buyer/Seller index, hue between Texas and Missouri\n",
    "plot_distribution(df = buyer_seller , var = 'BuyerSellerIndex', target = 'State')\n",
    "plt.title(\"Buyer/Seller Index\")\n",
    "plt.xlabel(\"Buyer/Seller index\")"
   ]
  },
  {
   "cell_type": "code",
   "execution_count": 28,
   "metadata": {},
   "outputs": [
    {
     "data": {
      "text/plain": [
       "Text(0.5,1,' % Price Cut Per Days On Market')"
      ]
     },
     "execution_count": 28,
     "metadata": {},
     "output_type": "execute_result"
    },
    {
     "data": {
      "image/png": "[encoded data removed]",
      "text/plain": [
       "<Figure size 412.125x360 with 1 Axes>"
      ]
     },
     "metadata": {
      "needs_background": "light"
     },
     "output_type": "display_data"
    }
   ],
   "source": [
    "# Check linear regression to see fit line on Price Cut as a function of Days on Market\n",
    "sns.lmplot(x='DaysOnMarket', y='PctPriceCut', data=buyer_seller, hue = 'State')\n",
    "plt.title(\" % Price Cut Per Days On Market\")"
   ]
  },
  {
   "cell_type": "code",
   "execution_count": 27,
   "metadata": {},
   "outputs": [
    {
     "data": {
      "text/plain": [
       "Text(0.5,20.8469,'Monthly Turnover')"
      ]
     },
     "execution_count": 27,
     "metadata": {},
     "output_type": "execute_result"
    },
    {
     "data": {
      "image/png": "[encoded data removed]",
      "text/plain": [
       "<Figure size 937.75x216 with 1 Axes>"
      ]
     },
     "metadata": {
      "needs_background": "light"
     },
     "output_type": "display_data"
    }
   ],
   "source": [
    "# Monthly Turnover, hue between Texas and Missouri\n",
    "plot_distribution(df = mon_turnover, var = 'MonthlyTurnover', target = 'StateName')\n",
    "plt.title(\"Monthly Turnover by State 2018-08\")\n",
    "plt.xlabel(\"Monthly Turnover\")"
   ]
  },
  {
   "cell_type": "code",
   "execution_count": 29,
   "metadata": {},
   "outputs": [],
   "source": [
    "# List all Dataframes to merge later\n",
    "#zillow = [price, med_sqft, mkt_health_index, inv_measure, buyer_seller, mon_turnover, inc_val, price_red]"
   ]
  },
  {
   "cell_type": "code",
   "execution_count": null,
   "metadata": {},
   "outputs": [],
   "source": [
    "zillow = pd.merge(left = price, right = med_sqft, on = 'RegionName')"
   ]
  },
  {
   "cell_type": "code",
   "execution_count": 30,
   "metadata": {},
   "outputs": [
    {
     "ename": "NameError",
     "evalue": "name 'zillow' is not defined",
     "output_type": "error",
     "traceback": [
      "\u001b[1;31m---------------------------------------------------------------------------\u001b[0m",
      "\u001b[1;31mNameError\u001b[0m                                 Traceback (most recent call last)",
      "\u001b[1;32m<ipython-input-30-9f16ff9bbd87>\u001b[0m in \u001b[0;36m<module>\u001b[1;34m()\u001b[0m\n\u001b[1;32m----> 1\u001b[1;33m \u001b[0mzillow\u001b[0m \u001b[1;33m=\u001b[0m \u001b[0mpd\u001b[0m\u001b[1;33m.\u001b[0m\u001b[0mmerge\u001b[0m\u001b[1;33m(\u001b[0m\u001b[0mleft\u001b[0m \u001b[1;33m=\u001b[0m \u001b[0mzillow\u001b[0m\u001b[1;33m,\u001b[0m \u001b[0mright\u001b[0m \u001b[1;33m=\u001b[0m \u001b[0mmkt_health_index\u001b[0m\u001b[1;33m,\u001b[0m \u001b[0mon\u001b[0m \u001b[1;33m=\u001b[0m\u001b[1;34m'RegionName'\u001b[0m\u001b[1;33m)\u001b[0m\u001b[1;33m\u001b[0m\u001b[0m\n\u001b[0m",
      "\u001b[1;31mNameError\u001b[0m: name 'zillow' is not defined"
     ]
    }
   ],
   "source": [
    "zillow = pd.merge(left = zillow, right = mkt_health_index, on ='RegionName')"
   ]
  },
  {
   "cell_type": "code",
   "execution_count": null,
   "metadata": {},
   "outputs": [],
   "source": [
    "zillow = pd.merge(left = zillow, right = inv_measure, on = 'RegionName')"
   ]
  },
  {
   "cell_type": "code",
   "execution_count": null,
   "metadata": {},
   "outputs": [],
   "source": [
    "zillow = pd.merge(left = zillow, right = buyer_seller, on = 'RegionName')"
   ]
  },
  {
   "cell_type": "code",
   "execution_count": null,
   "metadata": {},
   "outputs": [],
   "source": [
    "zillow = pd.merge(left = zillow, right = mon_turnover, on = 'RegionName')"
   ]
  },
  {
   "cell_type": "code",
   "execution_count": null,
   "metadata": {},
   "outputs": [],
   "source": [
    "zillow = pd.merge( left = zillow, right = inc_val, on = 'RegionName')"
   ]
  },
  {
   "cell_type": "code",
   "execution_count": null,
   "metadata": {},
   "outputs": [],
   "source": [
    "zillow = pd.merge(left = zillow, right = price_red, on = 'RegionName')"
   ]
  },
  {
   "cell_type": "code",
   "execution_count": null,
   "metadata": {},
   "outputs": [],
   "source": [
    "# Look at the resulting merged dataframe\n",
    "zillow"
   ]
  },
  {
   "cell_type": "code",
   "execution_count": null,
   "metadata": {},
   "outputs": [],
   "source": [
    "zillow.drop(columns = ['State_x','State_y','Metro_y','SizeRank_x','RegionType','City_x',\n",
    "                       'CountyName_y','Metro_x','StateFullName','DataTypeDescription','State_x',\n",
    "                       'CBSA Title','RegionID_y','StateName_y','RegionID_x','City_y','State_y',\n",
    "                       'Metro_y','CountyName','SizeRank_x','RegionID_y','StateName_x','CountyName_x',\n",
    "                      'SizeRank_y','DaysOnMarket_y', 'CBSATitle','SizeRankCity','SizeRankMetro', 'StockOfREOs' ],\n",
    "            inplace = True)"
   ]
  },
  {
   "cell_type": "code",
   "execution_count": null,
   "metadata": {},
   "outputs": [],
   "source": [
    "zillow"
   ]
  },
  {
   "cell_type": "code",
   "execution_count": null,
   "metadata": {},
   "outputs": [],
   "source": [
    "cols = list(zillow.columns.values)\n",
    "cols"
   ]
  },
  {
   "cell_type": "code",
   "execution_count": null,
   "metadata": {},
   "outputs": [],
   "source": [
    "zillow = zillow[['State','County','City','Metro','RegionName','MedianPrice','MedianSqftPrice','MarketHealthIndex',\n",
    "                'SellForGain','PrevForeclosed','ForeclosureRatio','ZHVI','MoM','YoY','ForecastYoYPctChange',\n",
    "                'StockOfREOs','NegativeEquity','Delinquency','DaysOnMarket_x','Inventory', 'PctPriceCut', 'BuyerSellerIndex',\n",
    "                'BuyerSellerIndexMetro', 'MonthlyTurnover', '%HomesIncreasingValue', '%HomesPriceReduction']]"
   ]
  },
  {
   "cell_type": "code",
   "execution_count": null,
   "metadata": {},
   "outputs": [],
   "source": [
    "zillow.rename(columns = {'DaysOnMarket_x': 'DaysOnMarket'}, inplace = True)"
   ]
  },
  {
   "cell_type": "code",
   "execution_count": null,
   "metadata": {},
   "outputs": [],
   "source": [
    "# Check for missing values\n",
    "zillow.isnull().sum()"
   ]
  },
  {
   "cell_type": "code",
   "execution_count": null,
   "metadata": {},
   "outputs": [],
   "source": [
    "zillow"
   ]
  },
  {
   "cell_type": "code",
   "execution_count": null,
   "metadata": {},
   "outputs": [],
   "source": []
  }
 ],
 "metadata": {
  "kernelspec": {
   "display_name": "Python 3",
   "language": "python",
   "name": "python3"
  },
  "language_info": {
   "codemirror_mode": {
    "name": "ipython",
    "version": 3
   },
   "file_extension": ".py",
   "mimetype": "text/x-python",
   "name": "python",
   "nbconvert_exporter": "python",
   "pygments_lexer": "ipython3",
   "version": "3.6.5"
  }
 },
 "nbformat": 4,
 "nbformat_minor": 2
}
